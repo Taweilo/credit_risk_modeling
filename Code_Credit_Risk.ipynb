{
  "nbformat": 4,
  "nbformat_minor": 0,
  "metadata": {
    "colab": {
      "provenance": [],
      "authorship_tag": "ABX9TyPSCLYU1c/cXWgA8Qr05BXG",
      "include_colab_link": true
    },
    "kernelspec": {
      "name": "python3",
      "display_name": "Python 3"
    },
    "language_info": {
      "name": "python"
    }
  },
  "cells": [
    {
      "cell_type": "markdown",
      "metadata": {
        "id": "view-in-github",
        "colab_type": "text"
      },
      "source": [
        "<a href=\"https://colab.research.google.com/github/Taweilo/credit_risk_modeling/blob/main/Code_Credit_Risk.ipynb\" target=\"_parent\"><img src=\"https://colab.research.google.com/assets/colab-badge.svg\" alt=\"Open In Colab\"/></a>"
      ]
    },
    {
      "cell_type": "code",
      "execution_count": 89,
      "metadata": {
        "id": "nMz9NwN4WoPW"
      },
      "outputs": [],
      "source": [
        "# data preparation\n",
        "import pandas as pd\n",
        "import numpy as np\n",
        "import seaborn as sns\n",
        "import matplotlib.pyplot as plt\n",
        "\n",
        "# modeling\n",
        "from sklearn.linear_model import LogisticRegression\n",
        "from sklearn.model_selection import GridSearchCV\n",
        "from sklearn.model_selection import train_test_split, cross_val_score\n",
        "from sklearn.metrics import classification_report, roc_auc_score, roc_curve\n",
        "import xgboost as xgb\n",
        "\n",
        "from sklearn.metrics import precision_recall_fscore_support"
      ]
    },
    {
      "cell_type": "markdown",
      "source": [
        "## 1. Import data"
      ],
      "metadata": {
        "id": "m8ksOoXRKXc-"
      }
    },
    {
      "cell_type": "code",
      "source": [
        "url = \"https://raw.githubusercontent.com/Taweilo/credit_risk_modeling/main/loan_data.csv\"\n",
        "df = pd.read_csv(url)\n",
        "df.head()"
      ],
      "metadata": {
        "colab": {
          "base_uri": "https://localhost:8080/",
          "height": 226
        },
        "id": "rwA3PxPpKbO1",
        "outputId": "152803fc-7a9f-486b-cd7b-3a0e2904e6d5"
      },
      "execution_count": 90,
      "outputs": [
        {
          "output_type": "execute_result",
          "data": {
            "text/plain": [
              "   application_id  person_age  person_income person_home_ownership  \\\n",
              "0               1          22          59000                  RENT   \n",
              "1               2          21           9600                   OWN   \n",
              "2               3          25           9600              MORTGAGE   \n",
              "3               4          23          65500                  RENT   \n",
              "4               5          24          54400                  RENT   \n",
              "\n",
              "   person_emp_length loan_intent loan_grade  loan_amnt  loan_int_rate  \\\n",
              "0              123.0    PERSONAL          D      35000          16.02   \n",
              "1                5.0   EDUCATION          B       1000          11.14   \n",
              "2                1.0     MEDICAL          C       5500          12.87   \n",
              "3                4.0     MEDICAL          C      35000          15.23   \n",
              "4                8.0     MEDICAL          C      35000          14.27   \n",
              "\n",
              "   loan_status  loan_percent_income cb_person_default_on_file  \\\n",
              "0            1                 0.59                         Y   \n",
              "1            0                 0.10                         N   \n",
              "2            1                 0.57                         N   \n",
              "3            1                 0.53                         N   \n",
              "4            1                 0.55                         Y   \n",
              "\n",
              "   cb_person_cred_hist_length  \n",
              "0                           3  \n",
              "1                           2  \n",
              "2                           3  \n",
              "3                           2  \n",
              "4                           4  "
            ],
            "text/html": [
              "\n",
              "  <div id=\"df-f62de3bd-21c9-4a13-ab8e-b44818ef95e0\" class=\"colab-df-container\">\n",
              "    <div>\n",
              "<style scoped>\n",
              "    .dataframe tbody tr th:only-of-type {\n",
              "        vertical-align: middle;\n",
              "    }\n",
              "\n",
              "    .dataframe tbody tr th {\n",
              "        vertical-align: top;\n",
              "    }\n",
              "\n",
              "    .dataframe thead th {\n",
              "        text-align: right;\n",
              "    }\n",
              "</style>\n",
              "<table border=\"1\" class=\"dataframe\">\n",
              "  <thead>\n",
              "    <tr style=\"text-align: right;\">\n",
              "      <th></th>\n",
              "      <th>application_id</th>\n",
              "      <th>person_age</th>\n",
              "      <th>person_income</th>\n",
              "      <th>person_home_ownership</th>\n",
              "      <th>person_emp_length</th>\n",
              "      <th>loan_intent</th>\n",
              "      <th>loan_grade</th>\n",
              "      <th>loan_amnt</th>\n",
              "      <th>loan_int_rate</th>\n",
              "      <th>loan_status</th>\n",
              "      <th>loan_percent_income</th>\n",
              "      <th>cb_person_default_on_file</th>\n",
              "      <th>cb_person_cred_hist_length</th>\n",
              "    </tr>\n",
              "  </thead>\n",
              "  <tbody>\n",
              "    <tr>\n",
              "      <th>0</th>\n",
              "      <td>1</td>\n",
              "      <td>22</td>\n",
              "      <td>59000</td>\n",
              "      <td>RENT</td>\n",
              "      <td>123.0</td>\n",
              "      <td>PERSONAL</td>\n",
              "      <td>D</td>\n",
              "      <td>35000</td>\n",
              "      <td>16.02</td>\n",
              "      <td>1</td>\n",
              "      <td>0.59</td>\n",
              "      <td>Y</td>\n",
              "      <td>3</td>\n",
              "    </tr>\n",
              "    <tr>\n",
              "      <th>1</th>\n",
              "      <td>2</td>\n",
              "      <td>21</td>\n",
              "      <td>9600</td>\n",
              "      <td>OWN</td>\n",
              "      <td>5.0</td>\n",
              "      <td>EDUCATION</td>\n",
              "      <td>B</td>\n",
              "      <td>1000</td>\n",
              "      <td>11.14</td>\n",
              "      <td>0</td>\n",
              "      <td>0.10</td>\n",
              "      <td>N</td>\n",
              "      <td>2</td>\n",
              "    </tr>\n",
              "    <tr>\n",
              "      <th>2</th>\n",
              "      <td>3</td>\n",
              "      <td>25</td>\n",
              "      <td>9600</td>\n",
              "      <td>MORTGAGE</td>\n",
              "      <td>1.0</td>\n",
              "      <td>MEDICAL</td>\n",
              "      <td>C</td>\n",
              "      <td>5500</td>\n",
              "      <td>12.87</td>\n",
              "      <td>1</td>\n",
              "      <td>0.57</td>\n",
              "      <td>N</td>\n",
              "      <td>3</td>\n",
              "    </tr>\n",
              "    <tr>\n",
              "      <th>3</th>\n",
              "      <td>4</td>\n",
              "      <td>23</td>\n",
              "      <td>65500</td>\n",
              "      <td>RENT</td>\n",
              "      <td>4.0</td>\n",
              "      <td>MEDICAL</td>\n",
              "      <td>C</td>\n",
              "      <td>35000</td>\n",
              "      <td>15.23</td>\n",
              "      <td>1</td>\n",
              "      <td>0.53</td>\n",
              "      <td>N</td>\n",
              "      <td>2</td>\n",
              "    </tr>\n",
              "    <tr>\n",
              "      <th>4</th>\n",
              "      <td>5</td>\n",
              "      <td>24</td>\n",
              "      <td>54400</td>\n",
              "      <td>RENT</td>\n",
              "      <td>8.0</td>\n",
              "      <td>MEDICAL</td>\n",
              "      <td>C</td>\n",
              "      <td>35000</td>\n",
              "      <td>14.27</td>\n",
              "      <td>1</td>\n",
              "      <td>0.55</td>\n",
              "      <td>Y</td>\n",
              "      <td>4</td>\n",
              "    </tr>\n",
              "  </tbody>\n",
              "</table>\n",
              "</div>\n",
              "    <div class=\"colab-df-buttons\">\n",
              "\n",
              "  <div class=\"colab-df-container\">\n",
              "    <button class=\"colab-df-convert\" onclick=\"convertToInteractive('df-f62de3bd-21c9-4a13-ab8e-b44818ef95e0')\"\n",
              "            title=\"Convert this dataframe to an interactive table.\"\n",
              "            style=\"display:none;\">\n",
              "\n",
              "  <svg xmlns=\"http://www.w3.org/2000/svg\" height=\"24px\" viewBox=\"0 -960 960 960\">\n",
              "    <path d=\"M120-120v-720h720v720H120Zm60-500h600v-160H180v160Zm220 220h160v-160H400v160Zm0 220h160v-160H400v160ZM180-400h160v-160H180v160Zm440 0h160v-160H620v160ZM180-180h160v-160H180v160Zm440 0h160v-160H620v160Z\"/>\n",
              "  </svg>\n",
              "    </button>\n",
              "\n",
              "  <style>\n",
              "    .colab-df-container {\n",
              "      display:flex;\n",
              "      gap: 12px;\n",
              "    }\n",
              "\n",
              "    .colab-df-convert {\n",
              "      background-color: #E8F0FE;\n",
              "      border: none;\n",
              "      border-radius: 50%;\n",
              "      cursor: pointer;\n",
              "      display: none;\n",
              "      fill: #1967D2;\n",
              "      height: 32px;\n",
              "      padding: 0 0 0 0;\n",
              "      width: 32px;\n",
              "    }\n",
              "\n",
              "    .colab-df-convert:hover {\n",
              "      background-color: #E2EBFA;\n",
              "      box-shadow: 0px 1px 2px rgba(60, 64, 67, 0.3), 0px 1px 3px 1px rgba(60, 64, 67, 0.15);\n",
              "      fill: #174EA6;\n",
              "    }\n",
              "\n",
              "    .colab-df-buttons div {\n",
              "      margin-bottom: 4px;\n",
              "    }\n",
              "\n",
              "    [theme=dark] .colab-df-convert {\n",
              "      background-color: #3B4455;\n",
              "      fill: #D2E3FC;\n",
              "    }\n",
              "\n",
              "    [theme=dark] .colab-df-convert:hover {\n",
              "      background-color: #434B5C;\n",
              "      box-shadow: 0px 1px 3px 1px rgba(0, 0, 0, 0.15);\n",
              "      filter: drop-shadow(0px 1px 2px rgba(0, 0, 0, 0.3));\n",
              "      fill: #FFFFFF;\n",
              "    }\n",
              "  </style>\n",
              "\n",
              "    <script>\n",
              "      const buttonEl =\n",
              "        document.querySelector('#df-f62de3bd-21c9-4a13-ab8e-b44818ef95e0 button.colab-df-convert');\n",
              "      buttonEl.style.display =\n",
              "        google.colab.kernel.accessAllowed ? 'block' : 'none';\n",
              "\n",
              "      async function convertToInteractive(key) {\n",
              "        const element = document.querySelector('#df-f62de3bd-21c9-4a13-ab8e-b44818ef95e0');\n",
              "        const dataTable =\n",
              "          await google.colab.kernel.invokeFunction('convertToInteractive',\n",
              "                                                    [key], {});\n",
              "        if (!dataTable) return;\n",
              "\n",
              "        const docLinkHtml = 'Like what you see? Visit the ' +\n",
              "          '<a target=\"_blank\" href=https://colab.research.google.com/notebooks/data_table.ipynb>data table notebook</a>'\n",
              "          + ' to learn more about interactive tables.';\n",
              "        element.innerHTML = '';\n",
              "        dataTable['output_type'] = 'display_data';\n",
              "        await google.colab.output.renderOutput(dataTable, element);\n",
              "        const docLink = document.createElement('div');\n",
              "        docLink.innerHTML = docLinkHtml;\n",
              "        element.appendChild(docLink);\n",
              "      }\n",
              "    </script>\n",
              "  </div>\n",
              "\n",
              "\n",
              "<div id=\"df-2a402e42-eba2-4b98-b868-f14b6bbeea97\">\n",
              "  <button class=\"colab-df-quickchart\" onclick=\"quickchart('df-2a402e42-eba2-4b98-b868-f14b6bbeea97')\"\n",
              "            title=\"Suggest charts\"\n",
              "            style=\"display:none;\">\n",
              "\n",
              "<svg xmlns=\"http://www.w3.org/2000/svg\" height=\"24px\"viewBox=\"0 0 24 24\"\n",
              "     width=\"24px\">\n",
              "    <g>\n",
              "        <path d=\"M19 3H5c-1.1 0-2 .9-2 2v14c0 1.1.9 2 2 2h14c1.1 0 2-.9 2-2V5c0-1.1-.9-2-2-2zM9 17H7v-7h2v7zm4 0h-2V7h2v10zm4 0h-2v-4h2v4z\"/>\n",
              "    </g>\n",
              "</svg>\n",
              "  </button>\n",
              "\n",
              "<style>\n",
              "  .colab-df-quickchart {\n",
              "      --bg-color: #E8F0FE;\n",
              "      --fill-color: #1967D2;\n",
              "      --hover-bg-color: #E2EBFA;\n",
              "      --hover-fill-color: #174EA6;\n",
              "      --disabled-fill-color: #AAA;\n",
              "      --disabled-bg-color: #DDD;\n",
              "  }\n",
              "\n",
              "  [theme=dark] .colab-df-quickchart {\n",
              "      --bg-color: #3B4455;\n",
              "      --fill-color: #D2E3FC;\n",
              "      --hover-bg-color: #434B5C;\n",
              "      --hover-fill-color: #FFFFFF;\n",
              "      --disabled-bg-color: #3B4455;\n",
              "      --disabled-fill-color: #666;\n",
              "  }\n",
              "\n",
              "  .colab-df-quickchart {\n",
              "    background-color: var(--bg-color);\n",
              "    border: none;\n",
              "    border-radius: 50%;\n",
              "    cursor: pointer;\n",
              "    display: none;\n",
              "    fill: var(--fill-color);\n",
              "    height: 32px;\n",
              "    padding: 0;\n",
              "    width: 32px;\n",
              "  }\n",
              "\n",
              "  .colab-df-quickchart:hover {\n",
              "    background-color: var(--hover-bg-color);\n",
              "    box-shadow: 0 1px 2px rgba(60, 64, 67, 0.3), 0 1px 3px 1px rgba(60, 64, 67, 0.15);\n",
              "    fill: var(--button-hover-fill-color);\n",
              "  }\n",
              "\n",
              "  .colab-df-quickchart-complete:disabled,\n",
              "  .colab-df-quickchart-complete:disabled:hover {\n",
              "    background-color: var(--disabled-bg-color);\n",
              "    fill: var(--disabled-fill-color);\n",
              "    box-shadow: none;\n",
              "  }\n",
              "\n",
              "  .colab-df-spinner {\n",
              "    border: 2px solid var(--fill-color);\n",
              "    border-color: transparent;\n",
              "    border-bottom-color: var(--fill-color);\n",
              "    animation:\n",
              "      spin 1s steps(1) infinite;\n",
              "  }\n",
              "\n",
              "  @keyframes spin {\n",
              "    0% {\n",
              "      border-color: transparent;\n",
              "      border-bottom-color: var(--fill-color);\n",
              "      border-left-color: var(--fill-color);\n",
              "    }\n",
              "    20% {\n",
              "      border-color: transparent;\n",
              "      border-left-color: var(--fill-color);\n",
              "      border-top-color: var(--fill-color);\n",
              "    }\n",
              "    30% {\n",
              "      border-color: transparent;\n",
              "      border-left-color: var(--fill-color);\n",
              "      border-top-color: var(--fill-color);\n",
              "      border-right-color: var(--fill-color);\n",
              "    }\n",
              "    40% {\n",
              "      border-color: transparent;\n",
              "      border-right-color: var(--fill-color);\n",
              "      border-top-color: var(--fill-color);\n",
              "    }\n",
              "    60% {\n",
              "      border-color: transparent;\n",
              "      border-right-color: var(--fill-color);\n",
              "    }\n",
              "    80% {\n",
              "      border-color: transparent;\n",
              "      border-right-color: var(--fill-color);\n",
              "      border-bottom-color: var(--fill-color);\n",
              "    }\n",
              "    90% {\n",
              "      border-color: transparent;\n",
              "      border-bottom-color: var(--fill-color);\n",
              "    }\n",
              "  }\n",
              "</style>\n",
              "\n",
              "  <script>\n",
              "    async function quickchart(key) {\n",
              "      const quickchartButtonEl =\n",
              "        document.querySelector('#' + key + ' button');\n",
              "      quickchartButtonEl.disabled = true;  // To prevent multiple clicks.\n",
              "      quickchartButtonEl.classList.add('colab-df-spinner');\n",
              "      try {\n",
              "        const charts = await google.colab.kernel.invokeFunction(\n",
              "            'suggestCharts', [key], {});\n",
              "      } catch (error) {\n",
              "        console.error('Error during call to suggestCharts:', error);\n",
              "      }\n",
              "      quickchartButtonEl.classList.remove('colab-df-spinner');\n",
              "      quickchartButtonEl.classList.add('colab-df-quickchart-complete');\n",
              "    }\n",
              "    (() => {\n",
              "      let quickchartButtonEl =\n",
              "        document.querySelector('#df-2a402e42-eba2-4b98-b868-f14b6bbeea97 button');\n",
              "      quickchartButtonEl.style.display =\n",
              "        google.colab.kernel.accessAllowed ? 'block' : 'none';\n",
              "    })();\n",
              "  </script>\n",
              "</div>\n",
              "\n",
              "    </div>\n",
              "  </div>\n"
            ],
            "application/vnd.google.colaboratory.intrinsic+json": {
              "type": "dataframe",
              "variable_name": "df",
              "summary": "{\n  \"name\": \"df\",\n  \"rows\": 32581,\n  \"fields\": [\n    {\n      \"column\": \"application_id\",\n      \"properties\": {\n        \"dtype\": \"number\",\n        \"std\": 9405,\n        \"min\": 1,\n        \"max\": 32581,\n        \"num_unique_values\": 32581,\n        \"samples\": [\n          14669,\n          24615,\n          11097\n        ],\n        \"semantic_type\": \"\",\n        \"description\": \"\"\n      }\n    },\n    {\n      \"column\": \"person_age\",\n      \"properties\": {\n        \"dtype\": \"number\",\n        \"std\": 6,\n        \"min\": 20,\n        \"max\": 144,\n        \"num_unique_values\": 58,\n        \"samples\": [\n          22,\n          26,\n          65\n        ],\n        \"semantic_type\": \"\",\n        \"description\": \"\"\n      }\n    },\n    {\n      \"column\": \"person_income\",\n      \"properties\": {\n        \"dtype\": \"number\",\n        \"std\": 61983,\n        \"min\": 4000,\n        \"max\": 6000000,\n        \"num_unique_values\": 4295,\n        \"samples\": [\n          20800,\n          54417,\n          144000\n        ],\n        \"semantic_type\": \"\",\n        \"description\": \"\"\n      }\n    },\n    {\n      \"column\": \"person_home_ownership\",\n      \"properties\": {\n        \"dtype\": \"category\",\n        \"num_unique_values\": 4,\n        \"samples\": [\n          \"OWN\",\n          \"OTHER\",\n          \"RENT\"\n        ],\n        \"semantic_type\": \"\",\n        \"description\": \"\"\n      }\n    },\n    {\n      \"column\": \"person_emp_length\",\n      \"properties\": {\n        \"dtype\": \"number\",\n        \"std\": 4.1426301488878625,\n        \"min\": 0.0,\n        \"max\": 123.0,\n        \"num_unique_values\": 36,\n        \"samples\": [\n          30.0,\n          18.0,\n          26.0\n        ],\n        \"semantic_type\": \"\",\n        \"description\": \"\"\n      }\n    },\n    {\n      \"column\": \"loan_intent\",\n      \"properties\": {\n        \"dtype\": \"category\",\n        \"num_unique_values\": 6,\n        \"samples\": [\n          \"PERSONAL\",\n          \"EDUCATION\",\n          \"DEBTCONSOLIDATION\"\n        ],\n        \"semantic_type\": \"\",\n        \"description\": \"\"\n      }\n    },\n    {\n      \"column\": \"loan_grade\",\n      \"properties\": {\n        \"dtype\": \"category\",\n        \"num_unique_values\": 7,\n        \"samples\": [\n          \"D\",\n          \"B\",\n          \"F\"\n        ],\n        \"semantic_type\": \"\",\n        \"description\": \"\"\n      }\n    },\n    {\n      \"column\": \"loan_amnt\",\n      \"properties\": {\n        \"dtype\": \"number\",\n        \"std\": 6322,\n        \"min\": 500,\n        \"max\": 35000,\n        \"num_unique_values\": 753,\n        \"samples\": [\n          13125,\n          3675,\n          13800\n        ],\n        \"semantic_type\": \"\",\n        \"description\": \"\"\n      }\n    },\n    {\n      \"column\": \"loan_int_rate\",\n      \"properties\": {\n        \"dtype\": \"number\",\n        \"std\": 3.2404594649559466,\n        \"min\": 5.42,\n        \"max\": 23.22,\n        \"num_unique_values\": 348,\n        \"samples\": [\n          10.28,\n          13.35,\n          18.07\n        ],\n        \"semantic_type\": \"\",\n        \"description\": \"\"\n      }\n    },\n    {\n      \"column\": \"loan_status\",\n      \"properties\": {\n        \"dtype\": \"number\",\n        \"std\": 0,\n        \"min\": 0,\n        \"max\": 1,\n        \"num_unique_values\": 2,\n        \"samples\": [\n          0,\n          1\n        ],\n        \"semantic_type\": \"\",\n        \"description\": \"\"\n      }\n    },\n    {\n      \"column\": \"loan_percent_income\",\n      \"properties\": {\n        \"dtype\": \"number\",\n        \"std\": 0.10678175634492382,\n        \"min\": 0.0,\n        \"max\": 0.83,\n        \"num_unique_values\": 77,\n        \"samples\": [\n          0.55,\n          0.34\n        ],\n        \"semantic_type\": \"\",\n        \"description\": \"\"\n      }\n    },\n    {\n      \"column\": \"cb_person_default_on_file\",\n      \"properties\": {\n        \"dtype\": \"category\",\n        \"num_unique_values\": 2,\n        \"samples\": [\n          \"N\",\n          \"Y\"\n        ],\n        \"semantic_type\": \"\",\n        \"description\": \"\"\n      }\n    },\n    {\n      \"column\": \"cb_person_cred_hist_length\",\n      \"properties\": {\n        \"dtype\": \"number\",\n        \"std\": 4,\n        \"min\": 2,\n        \"max\": 30,\n        \"num_unique_values\": 29,\n        \"samples\": [\n          24,\n          25\n        ],\n        \"semantic_type\": \"\",\n        \"description\": \"\"\n      }\n    }\n  ]\n}"
            }
          },
          "metadata": {},
          "execution_count": 90
        }
      ]
    },
    {
      "cell_type": "code",
      "source": [
        "print(df.shape)\n",
        "print(\"\")\n",
        "print(df.describe())"
      ],
      "metadata": {
        "colab": {
          "base_uri": "https://localhost:8080/"
        },
        "id": "T9dialWsKbSO",
        "outputId": "70d9bdea-a436-401d-d88e-2a6fb9c9ff44"
      },
      "execution_count": 91,
      "outputs": [
        {
          "output_type": "stream",
          "name": "stdout",
          "text": [
            "(32581, 13)\n",
            "\n",
            "       application_id    person_age  person_income  person_emp_length  \\\n",
            "count    32581.000000  32581.000000   3.258100e+04       31686.000000   \n",
            "mean     16291.000000     27.734600   6.607485e+04           4.789686   \n",
            "std       9405.468897      6.348078   6.198312e+04           4.142630   \n",
            "min          1.000000     20.000000   4.000000e+03           0.000000   \n",
            "25%       8146.000000     23.000000   3.850000e+04           2.000000   \n",
            "50%      16291.000000     26.000000   5.500000e+04           4.000000   \n",
            "75%      24436.000000     30.000000   7.920000e+04           7.000000   \n",
            "max      32581.000000    144.000000   6.000000e+06         123.000000   \n",
            "\n",
            "          loan_amnt  loan_int_rate   loan_status  loan_percent_income  \\\n",
            "count  32581.000000   29465.000000  32581.000000         32581.000000   \n",
            "mean    9589.371106      11.011695      0.218164             0.170203   \n",
            "std     6322.086646       3.240459      0.413006             0.106782   \n",
            "min      500.000000       5.420000      0.000000             0.000000   \n",
            "25%     5000.000000       7.900000      0.000000             0.090000   \n",
            "50%     8000.000000      10.990000      0.000000             0.150000   \n",
            "75%    12200.000000      13.470000      0.000000             0.230000   \n",
            "max    35000.000000      23.220000      1.000000             0.830000   \n",
            "\n",
            "       cb_person_cred_hist_length  \n",
            "count                32581.000000  \n",
            "mean                     5.804211  \n",
            "std                      4.055001  \n",
            "min                      2.000000  \n",
            "25%                      3.000000  \n",
            "50%                      4.000000  \n",
            "75%                      8.000000  \n",
            "max                     30.000000  \n"
          ]
        }
      ]
    },
    {
      "cell_type": "code",
      "source": [
        "print(df.info())\n",
        "print(\"\")\n",
        "# Assuming df is your DataFrame\n",
        "object_cols = df.select_dtypes(include='object').columns\n",
        "for col in object_cols:\n",
        "    print(f\"Column '{col}' has data type 'object'.\")\n",
        "    unique_values = df[col].unique()\n",
        "    print(\"Unique values:\")\n",
        "    for val in unique_values:\n",
        "        print(val)\n",
        "    print()"
      ],
      "metadata": {
        "colab": {
          "base_uri": "https://localhost:8080/"
        },
        "id": "jUUir9xuLZKc",
        "outputId": "327c3ef0-3bbe-461d-beec-86712b61a04f"
      },
      "execution_count": 92,
      "outputs": [
        {
          "output_type": "stream",
          "name": "stdout",
          "text": [
            "<class 'pandas.core.frame.DataFrame'>\n",
            "RangeIndex: 32581 entries, 0 to 32580\n",
            "Data columns (total 13 columns):\n",
            " #   Column                      Non-Null Count  Dtype  \n",
            "---  ------                      --------------  -----  \n",
            " 0   application_id              32581 non-null  int64  \n",
            " 1   person_age                  32581 non-null  int64  \n",
            " 2   person_income               32581 non-null  int64  \n",
            " 3   person_home_ownership       32581 non-null  object \n",
            " 4   person_emp_length           31686 non-null  float64\n",
            " 5   loan_intent                 32581 non-null  object \n",
            " 6   loan_grade                  32581 non-null  object \n",
            " 7   loan_amnt                   32581 non-null  int64  \n",
            " 8   loan_int_rate               29465 non-null  float64\n",
            " 9   loan_status                 32581 non-null  int64  \n",
            " 10  loan_percent_income         32581 non-null  float64\n",
            " 11  cb_person_default_on_file   32581 non-null  object \n",
            " 12  cb_person_cred_hist_length  32581 non-null  int64  \n",
            "dtypes: float64(3), int64(6), object(4)\n",
            "memory usage: 3.2+ MB\n",
            "None\n",
            "\n",
            "Column 'person_home_ownership' has data type 'object'.\n",
            "Unique values:\n",
            "RENT\n",
            "OWN\n",
            "MORTGAGE\n",
            "OTHER\n",
            "\n",
            "Column 'loan_intent' has data type 'object'.\n",
            "Unique values:\n",
            "PERSONAL\n",
            "EDUCATION\n",
            "MEDICAL\n",
            "VENTURE\n",
            "HOMEIMPROVEMENT\n",
            "DEBTCONSOLIDATION\n",
            "\n",
            "Column 'loan_grade' has data type 'object'.\n",
            "Unique values:\n",
            "D\n",
            "B\n",
            "C\n",
            "A\n",
            "E\n",
            "F\n",
            "G\n",
            "\n",
            "Column 'cb_person_default_on_file' has data type 'object'.\n",
            "Unique values:\n",
            "Y\n",
            "N\n",
            "\n"
          ]
        }
      ]
    },
    {
      "cell_type": "code",
      "source": [
        "print(\"How many customers whose employment length are above 40 years: \",len(df[df['person_emp_length']>40]))\n",
        "print(\"\")\n",
        "print(df[df['person_emp_length']>40]['person_emp_length'])"
      ],
      "metadata": {
        "colab": {
          "base_uri": "https://localhost:8080/"
        },
        "id": "9GfYCseW6sN7",
        "outputId": "223b5084-6cd8-4a7a-e7a9-a5eb5227c379"
      },
      "execution_count": 93,
      "outputs": [
        {
          "output_type": "stream",
          "name": "stdout",
          "text": [
            "How many customers whose employment length are above 40 years:  3\n",
            "\n",
            "0        123.0\n",
            "210      123.0\n",
            "32355     41.0\n",
            "Name: person_emp_length, dtype: float64\n"
          ]
        }
      ]
    },
    {
      "cell_type": "code",
      "source": [
        "print(\"How many customers are above 100 years old: \",len(df[df['person_age']>100]))\n",
        "print(\"\")\n",
        "print(df[df['person_age']>100]['person_age'])"
      ],
      "metadata": {
        "colab": {
          "base_uri": "https://localhost:8080/"
        },
        "id": "r5qu5dSJ7gcw",
        "outputId": "e897859a-7e8a-4ef8-b2c0-1a66a3126d38"
      },
      "execution_count": 94,
      "outputs": [
        {
          "output_type": "stream",
          "name": "stdout",
          "text": [
            "How many customers are above 100 years old:  5\n",
            "\n",
            "81       144\n",
            "183      144\n",
            "575      123\n",
            "747      123\n",
            "32297    144\n",
            "Name: person_age, dtype: int64\n"
          ]
        }
      ]
    },
    {
      "cell_type": "code",
      "source": [
        "df.loan_status.value_counts()"
      ],
      "metadata": {
        "colab": {
          "base_uri": "https://localhost:8080/"
        },
        "id": "KIWqzptRl5kH",
        "outputId": "36cae367-4906-4494-f1dc-4bf4cd46e577"
      },
      "execution_count": 95,
      "outputs": [
        {
          "output_type": "execute_result",
          "data": {
            "text/plain": [
              "loan_status\n",
              "0    25473\n",
              "1     7108\n",
              "Name: count, dtype: int64"
            ]
          },
          "metadata": {},
          "execution_count": 95
        }
      ]
    },
    {
      "cell_type": "markdown",
      "source": [
        "Data issue:<br>\n",
        "1. no need of application ID\n",
        "2. missing data: person_emp_length, loan_int_rate\n",
        "3. data quality: employment lenght and age above 100 years are abnormal\n",
        "4. imbalance data: nondefault data is more than three times of default data"
      ],
      "metadata": {
        "id": "ZeG4cI-s5Urp"
      }
    },
    {
      "cell_type": "code",
      "source": [
        "# drop ID\n",
        "df = df.drop([\"application_id\"], axis = 1)\n"
      ],
      "metadata": {
        "id": "qZjRBLiA8fNN"
      },
      "execution_count": 96,
      "outputs": []
    },
    {
      "cell_type": "code",
      "source": [
        "# Create the cross table for loan status, home ownership, and the max employment length\n",
        "print(pd.crosstab(df['loan_status'],df['person_home_ownership'],\n",
        "                  values=df['person_emp_length'], aggfunc='max'))\n",
        "\n",
        "# Create an array of indices where employment length is greater than 100\n",
        "indices = df[df['person_emp_length'] > 100].index\n",
        "\n",
        "# Drop the records from the data based on the indices and create a new dataframe\n",
        "df_new = df.drop(indices)"
      ],
      "metadata": {
        "colab": {
          "base_uri": "https://localhost:8080/"
        },
        "id": "Dou_MhCcPvjY",
        "outputId": "a6da27af-2a6a-4ef0-f34f-d4ba75f574db"
      },
      "execution_count": 97,
      "outputs": [
        {
          "output_type": "stream",
          "name": "stdout",
          "text": [
            "person_home_ownership  MORTGAGE  OTHER   OWN   RENT\n",
            "loan_status                                        \n",
            "0                         123.0   24.0  31.0   41.0\n",
            "1                          34.0   11.0  17.0  123.0\n"
          ]
        }
      ]
    },
    {
      "cell_type": "code",
      "source": [
        "# Use Pandas to drop the record from the data frame and create a new one\n",
        "df_new = df.drop(df[df[\"person_age\"] > 100].index)\n"
      ],
      "metadata": {
        "id": "QouTSg7B2jTA"
      },
      "execution_count": 98,
      "outputs": []
    },
    {
      "cell_type": "code",
      "source": [
        "print(pd.crosstab(df_new[\"loan_intent\"], df[\"loan_status\"], margins = True))"
      ],
      "metadata": {
        "colab": {
          "base_uri": "https://localhost:8080/"
        },
        "id": "U6G-PaEdNC_H",
        "outputId": "095980fe-9b2f-4208-9ee1-a25bbfdcb43a"
      },
      "execution_count": 99,
      "outputs": [
        {
          "output_type": "stream",
          "name": "stdout",
          "text": [
            "loan_status            0     1    All\n",
            "loan_intent                          \n",
            "DEBTCONSOLIDATION   3722  1490   5212\n",
            "EDUCATION           5340  1111   6451\n",
            "HOMEIMPROVEMENT     2664   941   3605\n",
            "MEDICAL             4450  1621   6071\n",
            "PERSONAL            4422  1098   5520\n",
            "VENTURE             4870   847   5717\n",
            "All                25468  7108  32576\n"
          ]
        }
      ]
    },
    {
      "cell_type": "code",
      "source": [
        "# Print a null value column array\n",
        "print(df_new.columns[df_new.isnull().any()])\n",
        "\n",
        "# Print the top five rows with nulls for employment length\n",
        "print(df_new[df_new[\"person_emp_length\"].isnull()].head())\n",
        "\n",
        "# Impute the null values with the median value for all employment lengths\n",
        "df_new[\"person_emp_length\"].fillna((df_new['person_emp_length'].median()), inplace=True)\n",
        "\n",
        "# Create a histogram of employment length\n",
        "n, bins, patches = plt.hist(df_new[\"person_emp_length\"], bins='auto', color='blue')\n",
        "plt.xlabel(\"Person Employment Length\")\n",
        "plt.show()"
      ],
      "metadata": {
        "colab": {
          "base_uri": "https://localhost:8080/",
          "height": 813
        },
        "id": "7WUiDIKcNoDT",
        "outputId": "e0d0101f-b3e5-40da-ee60-a6f157b0ec5c"
      },
      "execution_count": 100,
      "outputs": [
        {
          "output_type": "stream",
          "name": "stdout",
          "text": [
            "Index(['person_emp_length', 'loan_int_rate'], dtype='object')\n",
            "     person_age  person_income person_home_ownership  person_emp_length  \\\n",
            "105          22          12600              MORTGAGE                NaN   \n",
            "222          24         185000              MORTGAGE                NaN   \n",
            "379          24          16800              MORTGAGE                NaN   \n",
            "407          25          52000                  RENT                NaN   \n",
            "408          22          17352              MORTGAGE                NaN   \n",
            "\n",
            "           loan_intent loan_grade  loan_amnt  loan_int_rate  loan_status  \\\n",
            "105           PERSONAL          A       2000           5.42            1   \n",
            "222          EDUCATION          B      35000          12.42            0   \n",
            "379  DEBTCONSOLIDATION          A       3900            NaN            1   \n",
            "407           PERSONAL          B      24000          10.74            1   \n",
            "408          EDUCATION          C       2250          15.27            0   \n",
            "\n",
            "     loan_percent_income cb_person_default_on_file  cb_person_cred_hist_length  \n",
            "105                 0.16                         N                           4  \n",
            "222                 0.19                         N                           2  \n",
            "379                 0.23                         N                           3  \n",
            "407                 0.46                         N                           2  \n",
            "408                 0.13                         Y                           3  \n"
          ]
        },
        {
          "output_type": "display_data",
          "data": {
            "text/plain": [
              "<Figure size 640x480 with 1 Axes>"
            ],
            "image/png": "[encoded data removed]"
          },
          "metadata": {}
        }
      ]
    },
    {
      "cell_type": "code",
      "source": [
        "# Print the number of nulls\n",
        "print(df_new[\"loan_int_rate\"].isnull().sum())\n",
        "\n",
        "# Store the array on indices\n",
        "indices = df_new[df_new[\"loan_int_rate\"].isnull()].index\n",
        "\n",
        "# Save the new data without missing data\n",
        "df_clean = df_new.drop(indices)"
      ],
      "metadata": {
        "colab": {
          "base_uri": "https://localhost:8080/"
        },
        "id": "pKDXhPN7N6Zy",
        "outputId": "f057e28b-75d7-4650-d1db-22151a1b363b"
      },
      "execution_count": 101,
      "outputs": [
        {
          "output_type": "stream",
          "name": "stdout",
          "text": [
            "3115\n"
          ]
        }
      ]
    },
    {
      "cell_type": "code",
      "source": [
        "df_clean.info()"
      ],
      "metadata": {
        "colab": {
          "base_uri": "https://localhost:8080/"
        },
        "id": "smIsUYT83r3b",
        "outputId": "b3c69c38-9263-4382-e66b-2a574c3cadfd"
      },
      "execution_count": 102,
      "outputs": [
        {
          "output_type": "stream",
          "name": "stdout",
          "text": [
            "<class 'pandas.core.frame.DataFrame'>\n",
            "Index: 29461 entries, 0 to 32580\n",
            "Data columns (total 12 columns):\n",
            " #   Column                      Non-Null Count  Dtype  \n",
            "---  ------                      --------------  -----  \n",
            " 0   person_age                  29461 non-null  int64  \n",
            " 1   person_income               29461 non-null  int64  \n",
            " 2   person_home_ownership       29461 non-null  object \n",
            " 3   person_emp_length           29461 non-null  float64\n",
            " 4   loan_intent                 29461 non-null  object \n",
            " 5   loan_grade                  29461 non-null  object \n",
            " 6   loan_amnt                   29461 non-null  int64  \n",
            " 7   loan_int_rate               29461 non-null  float64\n",
            " 8   loan_status                 29461 non-null  int64  \n",
            " 9   loan_percent_income         29461 non-null  float64\n",
            " 10  cb_person_default_on_file   29461 non-null  object \n",
            " 11  cb_person_cred_hist_length  29461 non-null  int64  \n",
            "dtypes: float64(3), int64(5), object(4)\n",
            "memory usage: 2.9+ MB\n"
          ]
        }
      ]
    },
    {
      "cell_type": "markdown",
      "source": [
        "## Split data"
      ],
      "metadata": {
        "id": "Hjs710rbOYP4"
      }
    },
    {
      "cell_type": "code",
      "source": [
        "X = df_clean.drop('loan_status', axis=1)  # 'loan_status' is the target column\n",
        "X = pd.get_dummies(X, drop_first=True)  # Set drop_first=True to avoid multicollinearity\n",
        "y = df_clean['loan_status']"
      ],
      "metadata": {
        "id": "-1YBbweF4ADz"
      },
      "execution_count": 103,
      "outputs": []
    },
    {
      "cell_type": "code",
      "source": [
        "X.head()"
      ],
      "metadata": {
        "colab": {
          "base_uri": "https://localhost:8080/",
          "height": 255
        },
        "id": "ShSV92jGdooH",
        "outputId": "db686b49-30ae-4f48-c7a7-360ffad99b8b"
      },
      "execution_count": 104,
      "outputs": [
        {
          "output_type": "execute_result",
          "data": {
            "text/plain": [
              "   person_age  person_income  person_emp_length  loan_amnt  loan_int_rate  \\\n",
              "0          22          59000              123.0      35000          16.02   \n",
              "1          21           9600                5.0       1000          11.14   \n",
              "2          25           9600                1.0       5500          12.87   \n",
              "3          23          65500                4.0      35000          15.23   \n",
              "4          24          54400                8.0      35000          14.27   \n",
              "\n",
              "   loan_percent_income  cb_person_cred_hist_length  \\\n",
              "0                 0.59                           3   \n",
              "1                 0.10                           2   \n",
              "2                 0.57                           3   \n",
              "3                 0.53                           2   \n",
              "4                 0.55                           4   \n",
              "\n",
              "   person_home_ownership_OTHER  person_home_ownership_OWN  \\\n",
              "0                        False                      False   \n",
              "1                        False                       True   \n",
              "2                        False                      False   \n",
              "3                        False                      False   \n",
              "4                        False                      False   \n",
              "\n",
              "   person_home_ownership_RENT  ...  loan_intent_MEDICAL  loan_intent_PERSONAL  \\\n",
              "0                        True  ...                False                  True   \n",
              "1                       False  ...                False                 False   \n",
              "2                       False  ...                 True                 False   \n",
              "3                        True  ...                 True                 False   \n",
              "4                        True  ...                 True                 False   \n",
              "\n",
              "   loan_intent_VENTURE  loan_grade_B  loan_grade_C  loan_grade_D  \\\n",
              "0                False         False         False          True   \n",
              "1                False          True         False         False   \n",
              "2                False         False          True         False   \n",
              "3                False         False          True         False   \n",
              "4                False         False          True         False   \n",
              "\n",
              "   loan_grade_E  loan_grade_F  loan_grade_G  cb_person_default_on_file_Y  \n",
              "0         False         False         False                         True  \n",
              "1         False         False         False                        False  \n",
              "2         False         False         False                        False  \n",
              "3         False         False         False                        False  \n",
              "4         False         False         False                         True  \n",
              "\n",
              "[5 rows x 22 columns]"
            ],
            "text/html": [
              "\n",
              "  <div id=\"df-d5e630bd-fafb-4c77-8c3a-64bbc41f912d\" class=\"colab-df-container\">\n",
              "    <div>\n",
              "<style scoped>\n",
              "    .dataframe tbody tr th:only-of-type {\n",
              "        vertical-align: middle;\n",
              "    }\n",
              "\n",
              "    .dataframe tbody tr th {\n",
              "        vertical-align: top;\n",
              "    }\n",
              "\n",
              "    .dataframe thead th {\n",
              "        text-align: right;\n",
              "    }\n",
              "</style>\n",
              "<table border=\"1\" class=\"dataframe\">\n",
              "  <thead>\n",
              "    <tr style=\"text-align: right;\">\n",
              "      <th></th>\n",
              "      <th>person_age</th>\n",
              "      <th>person_income</th>\n",
              "      <th>person_emp_length</th>\n",
              "      <th>loan_amnt</th>\n",
              "      <th>loan_int_rate</th>\n",
              "      <th>loan_percent_income</th>\n",
              "      <th>cb_person_cred_hist_length</th>\n",
              "      <th>person_home_ownership_OTHER</th>\n",
              "      <th>person_home_ownership_OWN</th>\n",
              "      <th>person_home_ownership_RENT</th>\n",
              "      <th>...</th>\n",
              "      <th>loan_intent_MEDICAL</th>\n",
              "      <th>loan_intent_PERSONAL</th>\n",
              "      <th>loan_intent_VENTURE</th>\n",
              "      <th>loan_grade_B</th>\n",
              "      <th>loan_grade_C</th>\n",
              "      <th>loan_grade_D</th>\n",
              "      <th>loan_grade_E</th>\n",
              "      <th>loan_grade_F</th>\n",
              "      <th>loan_grade_G</th>\n",
              "      <th>cb_person_default_on_file_Y</th>\n",
              "    </tr>\n",
              "  </thead>\n",
              "  <tbody>\n",
              "    <tr>\n",
              "      <th>0</th>\n",
              "      <td>22</td>\n",
              "      <td>59000</td>\n",
              "      <td>123.0</td>\n",
              "      <td>35000</td>\n",
              "      <td>16.02</td>\n",
              "      <td>0.59</td>\n",
              "      <td>3</td>\n",
              "      <td>False</td>\n",
              "      <td>False</td>\n",
              "      <td>True</td>\n",
              "      <td>...</td>\n",
              "      <td>False</td>\n",
              "      <td>True</td>\n",
              "      <td>False</td>\n",
              "      <td>False</td>\n",
              "      <td>False</td>\n",
              "      <td>True</td>\n",
              "      <td>False</td>\n",
              "      <td>False</td>\n",
              "      <td>False</td>\n",
              "      <td>True</td>\n",
              "    </tr>\n",
              "    <tr>\n",
              "      <th>1</th>\n",
              "      <td>21</td>\n",
              "      <td>9600</td>\n",
              "      <td>5.0</td>\n",
              "      <td>1000</td>\n",
              "      <td>11.14</td>\n",
              "      <td>0.10</td>\n",
              "      <td>2</td>\n",
              "      <td>False</td>\n",
              "      <td>True</td>\n",
              "      <td>False</td>\n",
              "      <td>...</td>\n",
              "      <td>False</td>\n",
              "      <td>False</td>\n",
              "      <td>False</td>\n",
              "      <td>True</td>\n",
              "      <td>False</td>\n",
              "      <td>False</td>\n",
              "      <td>False</td>\n",
              "      <td>False</td>\n",
              "      <td>False</td>\n",
              "      <td>False</td>\n",
              "    </tr>\n",
              "    <tr>\n",
              "      <th>2</th>\n",
              "      <td>25</td>\n",
              "      <td>9600</td>\n",
              "      <td>1.0</td>\n",
              "      <td>5500</td>\n",
              "      <td>12.87</td>\n",
              "      <td>0.57</td>\n",
              "      <td>3</td>\n",
              "      <td>False</td>\n",
              "      <td>False</td>\n",
              "      <td>False</td>\n",
              "      <td>...</td>\n",
              "      <td>True</td>\n",
              "      <td>False</td>\n",
              "      <td>False</td>\n",
              "      <td>False</td>\n",
              "      <td>True</td>\n",
              "      <td>False</td>\n",
              "      <td>False</td>\n",
              "      <td>False</td>\n",
              "      <td>False</td>\n",
              "      <td>False</td>\n",
              "    </tr>\n",
              "    <tr>\n",
              "      <th>3</th>\n",
              "      <td>23</td>\n",
              "      <td>65500</td>\n",
              "      <td>4.0</td>\n",
              "      <td>35000</td>\n",
              "      <td>15.23</td>\n",
              "      <td>0.53</td>\n",
              "      <td>2</td>\n",
              "      <td>False</td>\n",
              "      <td>False</td>\n",
              "      <td>True</td>\n",
              "      <td>...</td>\n",
              "      <td>True</td>\n",
              "      <td>False</td>\n",
              "      <td>False</td>\n",
              "      <td>False</td>\n",
              "      <td>True</td>\n",
              "      <td>False</td>\n",
              "      <td>False</td>\n",
              "      <td>False</td>\n",
              "      <td>False</td>\n",
              "      <td>False</td>\n",
              "    </tr>\n",
              "    <tr>\n",
              "      <th>4</th>\n",
              "      <td>24</td>\n",
              "      <td>54400</td>\n",
              "      <td>8.0</td>\n",
              "      <td>35000</td>\n",
              "      <td>14.27</td>\n",
              "      <td>0.55</td>\n",
              "      <td>4</td>\n",
              "      <td>False</td>\n",
              "      <td>False</td>\n",
              "      <td>True</td>\n",
              "      <td>...</td>\n",
              "      <td>True</td>\n",
              "      <td>False</td>\n",
              "      <td>False</td>\n",
              "      <td>False</td>\n",
              "      <td>True</td>\n",
              "      <td>False</td>\n",
              "      <td>False</td>\n",
              "      <td>False</td>\n",
              "      <td>False</td>\n",
              "      <td>True</td>\n",
              "    </tr>\n",
              "  </tbody>\n",
              "</table>\n",
              "<p>5 rows × 22 columns</p>\n",
              "</div>\n",
              "    <div class=\"colab-df-buttons\">\n",
              "\n",
              "  <div class=\"colab-df-container\">\n",
              "    <button class=\"colab-df-convert\" onclick=\"convertToInteractive('df-d5e630bd-fafb-4c77-8c3a-64bbc41f912d')\"\n",
              "            title=\"Convert this dataframe to an interactive table.\"\n",
              "            style=\"display:none;\">\n",
              "\n",
              "  <svg xmlns=\"http://www.w3.org/2000/svg\" height=\"24px\" viewBox=\"0 -960 960 960\">\n",
              "    <path d=\"M120-120v-720h720v720H120Zm60-500h600v-160H180v160Zm220 220h160v-160H400v160Zm0 220h160v-160H400v160ZM180-400h160v-160H180v160Zm440 0h160v-160H620v160ZM180-180h160v-160H180v160Zm440 0h160v-160H620v160Z\"/>\n",
              "  </svg>\n",
              "    </button>\n",
              "\n",
              "  <style>\n",
              "    .colab-df-container {\n",
              "      display:flex;\n",
              "      gap: 12px;\n",
              "    }\n",
              "\n",
              "    .colab-df-convert {\n",
              "      background-color: #E8F0FE;\n",
              "      border: none;\n",
              "      border-radius: 50%;\n",
              "      cursor: pointer;\n",
              "      display: none;\n",
              "      fill: #1967D2;\n",
              "      height: 32px;\n",
              "      padding: 0 0 0 0;\n",
              "      width: 32px;\n",
              "    }\n",
              "\n",
              "    .colab-df-convert:hover {\n",
              "      background-color: #E2EBFA;\n",
              "      box-shadow: 0px 1px 2px rgba(60, 64, 67, 0.3), 0px 1px 3px 1px rgba(60, 64, 67, 0.15);\n",
              "      fill: #174EA6;\n",
              "    }\n",
              "\n",
              "    .colab-df-buttons div {\n",
              "      margin-bottom: 4px;\n",
              "    }\n",
              "\n",
              "    [theme=dark] .colab-df-convert {\n",
              "      background-color: #3B4455;\n",
              "      fill: #D2E3FC;\n",
              "    }\n",
              "\n",
              "    [theme=dark] .colab-df-convert:hover {\n",
              "      background-color: #434B5C;\n",
              "      box-shadow: 0px 1px 3px 1px rgba(0, 0, 0, 0.15);\n",
              "      filter: drop-shadow(0px 1px 2px rgba(0, 0, 0, 0.3));\n",
              "      fill: #FFFFFF;\n",
              "    }\n",
              "  </style>\n",
              "\n",
              "    <script>\n",
              "      const buttonEl =\n",
              "        document.querySelector('#df-d5e630bd-fafb-4c77-8c3a-64bbc41f912d button.colab-df-convert');\n",
              "      buttonEl.style.display =\n",
              "        google.colab.kernel.accessAllowed ? 'block' : 'none';\n",
              "\n",
              "      async function convertToInteractive(key) {\n",
              "        const element = document.querySelector('#df-d5e630bd-fafb-4c77-8c3a-64bbc41f912d');\n",
              "        const dataTable =\n",
              "          await google.colab.kernel.invokeFunction('convertToInteractive',\n",
              "                                                    [key], {});\n",
              "        if (!dataTable) return;\n",
              "\n",
              "        const docLinkHtml = 'Like what you see? Visit the ' +\n",
              "          '<a target=\"_blank\" href=https://colab.research.google.com/notebooks/data_table.ipynb>data table notebook</a>'\n",
              "          + ' to learn more about interactive tables.';\n",
              "        element.innerHTML = '';\n",
              "        dataTable['output_type'] = 'display_data';\n",
              "        await google.colab.output.renderOutput(dataTable, element);\n",
              "        const docLink = document.createElement('div');\n",
              "        docLink.innerHTML = docLinkHtml;\n",
              "        element.appendChild(docLink);\n",
              "      }\n",
              "    </script>\n",
              "  </div>\n",
              "\n",
              "\n",
              "<div id=\"df-5aba27c4-7419-40af-a178-0d957facfba9\">\n",
              "  <button class=\"colab-df-quickchart\" onclick=\"quickchart('df-5aba27c4-7419-40af-a178-0d957facfba9')\"\n",
              "            title=\"Suggest charts\"\n",
              "            style=\"display:none;\">\n",
              "\n",
              "<svg xmlns=\"http://www.w3.org/2000/svg\" height=\"24px\"viewBox=\"0 0 24 24\"\n",
              "     width=\"24px\">\n",
              "    <g>\n",
              "        <path d=\"M19 3H5c-1.1 0-2 .9-2 2v14c0 1.1.9 2 2 2h14c1.1 0 2-.9 2-2V5c0-1.1-.9-2-2-2zM9 17H7v-7h2v7zm4 0h-2V7h2v10zm4 0h-2v-4h2v4z\"/>\n",
              "    </g>\n",
              "</svg>\n",
              "  </button>\n",
              "\n",
              "<style>\n",
              "  .colab-df-quickchart {\n",
              "      --bg-color: #E8F0FE;\n",
              "      --fill-color: #1967D2;\n",
              "      --hover-bg-color: #E2EBFA;\n",
              "      --hover-fill-color: #174EA6;\n",
              "      --disabled-fill-color: #AAA;\n",
              "      --disabled-bg-color: #DDD;\n",
              "  }\n",
              "\n",
              "  [theme=dark] .colab-df-quickchart {\n",
              "      --bg-color: #3B4455;\n",
              "      --fill-color: #D2E3FC;\n",
              "      --hover-bg-color: #434B5C;\n",
              "      --hover-fill-color: #FFFFFF;\n",
              "      --disabled-bg-color: #3B4455;\n",
              "      --disabled-fill-color: #666;\n",
              "  }\n",
              "\n",
              "  .colab-df-quickchart {\n",
              "    background-color: var(--bg-color);\n",
              "    border: none;\n",
              "    border-radius: 50%;\n",
              "    cursor: pointer;\n",
              "    display: none;\n",
              "    fill: var(--fill-color);\n",
              "    height: 32px;\n",
              "    padding: 0;\n",
              "    width: 32px;\n",
              "  }\n",
              "\n",
              "  .colab-df-quickchart:hover {\n",
              "    background-color: var(--hover-bg-color);\n",
              "    box-shadow: 0 1px 2px rgba(60, 64, 67, 0.3), 0 1px 3px 1px rgba(60, 64, 67, 0.15);\n",
              "    fill: var(--button-hover-fill-color);\n",
              "  }\n",
              "\n",
              "  .colab-df-quickchart-complete:disabled,\n",
              "  .colab-df-quickchart-complete:disabled:hover {\n",
              "    background-color: var(--disabled-bg-color);\n",
              "    fill: var(--disabled-fill-color);\n",
              "    box-shadow: none;\n",
              "  }\n",
              "\n",
              "  .colab-df-spinner {\n",
              "    border: 2px solid var(--fill-color);\n",
              "    border-color: transparent;\n",
              "    border-bottom-color: var(--fill-color);\n",
              "    animation:\n",
              "      spin 1s steps(1) infinite;\n",
              "  }\n",
              "\n",
              "  @keyframes spin {\n",
              "    0% {\n",
              "      border-color: transparent;\n",
              "      border-bottom-color: var(--fill-color);\n",
              "      border-left-color: var(--fill-color);\n",
              "    }\n",
              "    20% {\n",
              "      border-color: transparent;\n",
              "      border-left-color: var(--fill-color);\n",
              "      border-top-color: var(--fill-color);\n",
              "    }\n",
              "    30% {\n",
              "      border-color: transparent;\n",
              "      border-left-color: var(--fill-color);\n",
              "      border-top-color: var(--fill-color);\n",
              "      border-right-color: var(--fill-color);\n",
              "    }\n",
              "    40% {\n",
              "      border-color: transparent;\n",
              "      border-right-color: var(--fill-color);\n",
              "      border-top-color: var(--fill-color);\n",
              "    }\n",
              "    60% {\n",
              "      border-color: transparent;\n",
              "      border-right-color: var(--fill-color);\n",
              "    }\n",
              "    80% {\n",
              "      border-color: transparent;\n",
              "      border-right-color: var(--fill-color);\n",
              "      border-bottom-color: var(--fill-color);\n",
              "    }\n",
              "    90% {\n",
              "      border-color: transparent;\n",
              "      border-bottom-color: var(--fill-color);\n",
              "    }\n",
              "  }\n",
              "</style>\n",
              "\n",
              "  <script>\n",
              "    async function quickchart(key) {\n",
              "      const quickchartButtonEl =\n",
              "        document.querySelector('#' + key + ' button');\n",
              "      quickchartButtonEl.disabled = true;  // To prevent multiple clicks.\n",
              "      quickchartButtonEl.classList.add('colab-df-spinner');\n",
              "      try {\n",
              "        const charts = await google.colab.kernel.invokeFunction(\n",
              "            'suggestCharts', [key], {});\n",
              "      } catch (error) {\n",
              "        console.error('Error during call to suggestCharts:', error);\n",
              "      }\n",
              "      quickchartButtonEl.classList.remove('colab-df-spinner');\n",
              "      quickchartButtonEl.classList.add('colab-df-quickchart-complete');\n",
              "    }\n",
              "    (() => {\n",
              "      let quickchartButtonEl =\n",
              "        document.querySelector('#df-5aba27c4-7419-40af-a178-0d957facfba9 button');\n",
              "      quickchartButtonEl.style.display =\n",
              "        google.colab.kernel.accessAllowed ? 'block' : 'none';\n",
              "    })();\n",
              "  </script>\n",
              "</div>\n",
              "\n",
              "    </div>\n",
              "  </div>\n"
            ],
            "application/vnd.google.colaboratory.intrinsic+json": {
              "type": "dataframe",
              "variable_name": "X"
            }
          },
          "metadata": {},
          "execution_count": 104
        }
      ]
    },
    {
      "cell_type": "markdown",
      "source": [],
      "metadata": {
        "id": "XPdt8bORRYhM"
      }
    },
    {
      "cell_type": "code",
      "source": [
        "# Splitting the data into training and temporary sets\n",
        "X_train, X_tem, y_train, y_tem = train_test_split(X, y, test_size=0.4, random_state=123)\n",
        "X_val, X_test, y_val, y_test = train_test_split(X_tem, y_tem, test_size=0.5, random_state=123)"
      ],
      "metadata": {
        "id": "4UYV1cQjOXTE"
      },
      "execution_count": 105,
      "outputs": []
    },
    {
      "cell_type": "code",
      "source": [
        "from collections import Counter\n",
        "# Check the class distribution before undersampling\n",
        "print(\"Before Undersampling:\", Counter(y_train))"
      ],
      "metadata": {
        "id": "p8r-CwPf4AOb",
        "colab": {
          "base_uri": "https://localhost:8080/"
        },
        "outputId": "858afaba-8d55-4c50-fd19-34be1b76954d"
      },
      "execution_count": 106,
      "outputs": [
        {
          "output_type": "stream",
          "name": "stdout",
          "text": [
            "Before Undersampling: Counter({0: 13807, 1: 3869})\n"
          ]
        }
      ]
    },
    {
      "cell_type": "code",
      "source": [
        "from imblearn.under_sampling import RandomUnderSampler\n",
        "# Initialize the RandomUnderSampler\n",
        "undersampler = RandomUnderSampler(random_state=42)\n",
        "\n",
        "# Perform undersampling on train_X and train_y\n",
        "X_train_undersampled, y_train_undersampled = undersampler.fit_resample(X_train, y_train)\n",
        "\n",
        "# Check the class distribution after undersampling\n",
        "print(\"After Undersampling:\", Counter(y_train_undersampled))\n"
      ],
      "metadata": {
        "id": "vU6AKpSS4AX5",
        "colab": {
          "base_uri": "https://localhost:8080/"
        },
        "outputId": "f23bc45d-1470-4097-c15f-c9bc3a88d603"
      },
      "execution_count": 107,
      "outputs": [
        {
          "output_type": "stream",
          "name": "stdout",
          "text": [
            "After Undersampling: Counter({0: 3869, 1: 3869})\n"
          ]
        }
      ]
    },
    {
      "cell_type": "code",
      "source": [
        "# rename original train data\n",
        "X_old_train = X_train\n",
        "y_old_train = y_train\n",
        "\n",
        "# rename undersampling train data\n",
        "X_train = X_train_undersampled\n",
        "y_train = y_train_undersampled"
      ],
      "metadata": {
        "id": "Fw1AmxD4e244"
      },
      "execution_count": 108,
      "outputs": []
    },
    {
      "cell_type": "code",
      "source": [
        "# set of train data\n",
        "print(X_old_train.shape)\n",
        "print(y_old_train.shape)\n",
        "print(X_train.shape)\n",
        "print(y_train.shape)\n",
        "# validation data\n",
        "print(X_val.shape)\n",
        "print(y_val.shape)\n",
        "# test data\n",
        "print(X_test.shape)\n",
        "print(y_test.shape)"
      ],
      "metadata": {
        "colab": {
          "base_uri": "https://localhost:8080/"
        },
        "id": "5_jIUMmZg8W-",
        "outputId": "75e3589b-e37d-4bc3-954a-f09053c1a53e"
      },
      "execution_count": 109,
      "outputs": [
        {
          "output_type": "stream",
          "name": "stdout",
          "text": [
            "(17676, 22)\n",
            "(17676,)\n",
            "(7738, 22)\n",
            "(7738,)\n",
            "(5892, 22)\n",
            "(5892,)\n",
            "(5893, 22)\n",
            "(5893,)\n"
          ]
        }
      ]
    },
    {
      "cell_type": "markdown",
      "source": [
        "## Modeling"
      ],
      "metadata": {
        "id": "-ObYDefqRD3I"
      }
    },
    {
      "cell_type": "code",
      "source": [
        "# logit model\n",
        "log_model=LogisticRegression(solver='lbfgs')\n",
        "log_model.fit(X_train, np.ravel(y_train))\n",
        "y_log_pred = log_model.predict(X_val)\n",
        "y_log_pred_prob =log_model.predict_proba(X_val)[:, 1]\n",
        "AUC_log = roc_auc_score(y_val, y_log_pred_prob)\n",
        "print(\"AUC score\", AUC_log)"
      ],
      "metadata": {
        "id": "vlBXvm7mRGBY",
        "colab": {
          "base_uri": "https://localhost:8080/"
        },
        "outputId": "df448f2c-8117-4690-99e3-7870b1a93879"
      },
      "execution_count": 110,
      "outputs": [
        {
          "output_type": "stream",
          "name": "stdout",
          "text": [
            "AUC score 0.7989165864949241\n"
          ]
        }
      ]
    },
    {
      "cell_type": "code",
      "source": [
        "# logit model with CV\n",
        "\n",
        "# Define hyperparameters grid\n",
        "param_grid = {\n",
        "    'C': [0.001, 0.01, 0.1, 1, 10, 100],\n",
        "    'penalty': ['l2'],\n",
        "    'solver': ['lbfgs']\n",
        "}\n",
        "\n",
        "# Create logistic regression model\n",
        "log_mode_cv = LogisticRegression()\n",
        "\n",
        "# Create GridSearchCV object\n",
        "grid_search = GridSearchCV(log_mode_cv, param_grid, cv=5, scoring='roc_auc')\n",
        "\n",
        "# Fit the grid search to the data\n",
        "grid_search.fit(X_train, np.ravel(y_train))\n",
        "\n",
        "# Get the best hyperparameters\n",
        "best_params = grid_search.best_params_\n",
        "print(\"Best hyperparameters:\", best_params)\n",
        "\n",
        "# Train the model with the best hyperparameters\n",
        "best_log_mode_cv = LogisticRegression(**best_params)\n",
        "best_log_mode_cv.fit(X_train, y_train)\n",
        "y_log_cv_pred = best_log_mode_cv.predict(X_val)\n",
        "\n",
        "# Evaluate the model\n",
        "AUC_logcv = roc_auc_score(y_val, best_log_mode_cv.predict_proba(X_val)[:, 1])\n",
        "print(\"AUC on Logistic CV:\", AUC_logcv)\n"
      ],
      "metadata": {
        "colab": {
          "base_uri": "https://localhost:8080/"
        },
        "id": "sLN9JBvybvLX",
        "outputId": "46ce49a6-d139-4644-ec90-ba3ebc60cafa"
      },
      "execution_count": 111,
      "outputs": [
        {
          "output_type": "stream",
          "name": "stderr",
          "text": [
            "/usr/local/lib/python3.10/dist-packages/sklearn/linear_model/_logistic.py:458: ConvergenceWarning: lbfgs failed to converge (status=1):\n",
            "STOP: TOTAL NO. of ITERATIONS REACHED LIMIT.\n",
            "\n",
            "Increase the number of iterations (max_iter) or scale the data as shown in:\n",
            "    https://scikit-learn.org/stable/modules/preprocessing.html\n",
            "Please also refer to the documentation for alternative solver options:\n",
            "    https://scikit-learn.org/stable/modules/linear_model.html#logistic-regression\n",
            "  n_iter_i = _check_optimize_result(\n",
            "/usr/local/lib/python3.10/dist-packages/sklearn/linear_model/_logistic.py:458: ConvergenceWarning: lbfgs failed to converge (status=1):\n",
            "STOP: TOTAL NO. of ITERATIONS REACHED LIMIT.\n",
            "\n",
            "Increase the number of iterations (max_iter) or scale the data as shown in:\n",
            "    https://scikit-learn.org/stable/modules/preprocessing.html\n",
            "Please also refer to the documentation for alternative solver options:\n",
            "    https://scikit-learn.org/stable/modules/linear_model.html#logistic-regression\n",
            "  n_iter_i = _check_optimize_result(\n",
            "/usr/local/lib/python3.10/dist-packages/sklearn/linear_model/_logistic.py:458: ConvergenceWarning: lbfgs failed to converge (status=1):\n",
            "STOP: TOTAL NO. of ITERATIONS REACHED LIMIT.\n",
            "\n",
            "Increase the number of iterations (max_iter) or scale the data as shown in:\n",
            "    https://scikit-learn.org/stable/modules/preprocessing.html\n",
            "Please also refer to the documentation for alternative solver options:\n",
            "    https://scikit-learn.org/stable/modules/linear_model.html#logistic-regression\n",
            "  n_iter_i = _check_optimize_result(\n",
            "/usr/local/lib/python3.10/dist-packages/sklearn/linear_model/_logistic.py:458: ConvergenceWarning: lbfgs failed to converge (status=1):\n",
            "STOP: TOTAL NO. of ITERATIONS REACHED LIMIT.\n",
            "\n",
            "Increase the number of iterations (max_iter) or scale the data as shown in:\n",
            "    https://scikit-learn.org/stable/modules/preprocessing.html\n",
            "Please also refer to the documentation for alternative solver options:\n",
            "    https://scikit-learn.org/stable/modules/linear_model.html#logistic-regression\n",
            "  n_iter_i = _check_optimize_result(\n"
          ]
        },
        {
          "output_type": "stream",
          "name": "stdout",
          "text": [
            "Best hyperparameters: {'C': 0.001, 'penalty': 'l2', 'solver': 'lbfgs'}\n",
            "AUC on Logistic CV: 0.8103711823439417\n"
          ]
        }
      ]
    },
    {
      "cell_type": "code",
      "source": [
        "# xgb model\n",
        "# Define the XGBoost classifier\n",
        "xgb_model = xgb.XGBClassifier()\n",
        "\n",
        "# Train the model\n",
        "xgb_model.fit(X_train, np.ravel(y_train))\n",
        "\n",
        "# Make predictions on the test data\n",
        "y_xgb_pred = xgb_model.predict(X_val)\n",
        "AUG_xgb = roc_auc_score(y_val, xgb_model.predict_proba(X_val)[:, 1])\n",
        "print(\"AUC on XGB:\", AUG_xgb)"
      ],
      "metadata": {
        "id": "4ukeesAbRGFD",
        "colab": {
          "base_uri": "https://localhost:8080/"
        },
        "outputId": "9f52209c-b287-4759-ef38-00ccafa38da3"
      },
      "execution_count": 112,
      "outputs": [
        {
          "output_type": "stream",
          "name": "stdout",
          "text": [
            "AUC on XGB: 0.9333730964883339\n"
          ]
        }
      ]
    },
    {
      "cell_type": "code",
      "source": [
        "from sklearn.model_selection import GridSearchCV\n",
        "import xgboost as xgb\n",
        "\n",
        "# Set the values for number of folds and stopping iterations\n",
        "n_folds = 5\n",
        "early_stopping = 10\n",
        "\n",
        "# Create the DTrain matrix for XGBoost\n",
        "DTrain = xgb.DMatrix(X_train, label=y_train)\n",
        "\n",
        "# Base parameters for XGBoost model (common hyperparameters can go here)\n",
        "base_params = {'objective': 'binary:logistic', 'seed': 99}\n",
        "\n",
        "# Define the hyperparameter grid for tuning\n",
        "param_grid = {\n",
        "    'max_depth': [3, 5, 7],  # Maximum tree depth\n",
        "    'eta': [0.01, 0.1, 0.3],  # Learning rate\n",
        "    'n_estimators': [100, 500, 1000]  # Number of boosting rounds (trees)\n",
        "}\n",
        "\n",
        "# Create a GridSearchCV object for XGBoost hyperparameter tuning\n",
        "grid_search = GridSearchCV(estimator=xgb.XGBClassifier(**base_params),\n",
        "                           param_grid=param_grid,\n",
        "                           scoring='roc_auc',  # Use AUC for binary classification\n",
        "                           cv=n_folds,\n",
        "                           verbose=1,  # Print progress during tuning\n",
        "                           n_jobs=-1)  # Use all available CPU cores\n",
        "\n",
        "# Fit GridSearchCV to the training data\n",
        "grid_search.fit(X_train, np.ravel(y_train))\n",
        "\n",
        "# Get the best hyperparameters from GridSearchCV\n",
        "best_params = grid_search.best_params_\n",
        "print(\"Best Hyperparameters:\", best_params)\n",
        "\n",
        "# Create the final XGBoost model with the best hyperparameters\n",
        "final_model = xgb.XGBClassifier(**base_params, **best_params)\n",
        "final_model.fit(X_train, np.ravel(y_train), eval_metric='auc')  # Early stopping can be integrated here\n",
        "\n",
        "# Make predictions on validation data\n",
        "y_xgbcv_pred_prob = final_model.predict_proba(X_val)[:, 1]  # Probability of positive class\n",
        "y_xgbcv_pred = final_model.predict(X_val)\n",
        "AUC_xgbcv = roc_auc_score(y_val, y_xgbcv_pred_prob)\n",
        "print(\"AUC on Validation Data:\", AUC_xgbcv)"
      ],
      "metadata": {
        "colab": {
          "base_uri": "https://localhost:8080/"
        },
        "id": "64d9Cd4fnTPA",
        "outputId": "d2399489-36c1-4e70-e147-a32a9efced86"
      },
      "execution_count": 113,
      "outputs": [
        {
          "output_type": "stream",
          "name": "stdout",
          "text": [
            "Fitting 5 folds for each of 27 candidates, totalling 135 fits\n",
            "Best Hyperparameters: {'eta': 0.01, 'max_depth': 7, 'n_estimators': 1000}\n"
          ]
        },
        {
          "output_type": "stream",
          "name": "stderr",
          "text": [
            "/usr/local/lib/python3.10/dist-packages/xgboost/sklearn.py:889: UserWarning: `eval_metric` in `fit` method is deprecated for better compatibility with scikit-learn, use `eval_metric` in constructor or`set_params` instead.\n",
            "  warnings.warn(\n"
          ]
        },
        {
          "output_type": "stream",
          "name": "stdout",
          "text": [
            "AUC on Validation Data: 0.9329158258427925\n"
          ]
        }
      ]
    },
    {
      "cell_type": "code",
      "source": [
        "# Set the values for number of folds and stopping iterations\n",
        "n_folds = 5\n",
        "early_stopping = 10\n",
        "\n",
        "# Create the DTrain matrix for XGBoost\n",
        "DTrain = xgb.DMatrix(X_train, label=y_train)\n",
        "\n",
        "params = {'objective': 'binary:logistic',\n",
        "          'seed': 99, 'eval_metric': 'auc'}\n",
        "\n",
        "# Create the data frame of cross validations with early stopping\n",
        "cv_df = xgb.cv(params, DTrain, num_boost_round=1000, nfold=n_folds,\n",
        "               early_stopping_rounds=early_stopping)\n",
        "\n",
        "# Get the best iteration\n",
        "best_iteration = cv_df['test-auc-mean'].idxmax()\n",
        "print(\"Best Iteration:\", best_iteration)\n",
        "\n",
        "# Train the final model with the best iteration\n",
        "final_model = xgb.train(params, DTrain, num_boost_round=best_iteration)\n",
        "\n",
        "# Now, you can use 'final_model' for predictions on your validation data\n",
        "DVal = xgb.DMatrix(X_val)\n",
        "y_pred_val = final_model.predict(DVal)\n",
        "\n",
        "# Calculate AUC on validation data\n",
        "auc_val = roc_auc_score(y_val, y_pred_val)\n",
        "print(\"AUC on Validation Data:\", auc_val)"
      ],
      "metadata": {
        "colab": {
          "base_uri": "https://localhost:8080/"
        },
        "id": "qiKMkzAFmM0b",
        "outputId": "754f7453-a3d0-41fa-9bab-5ceb7c1cac95"
      },
      "execution_count": 114,
      "outputs": [
        {
          "output_type": "stream",
          "name": "stdout",
          "text": [
            "Best Iteration: 64\n",
            "AUC on Validation Data: 0.9335232652506271\n"
          ]
        }
      ]
    },
    {
      "cell_type": "markdown",
      "source": [
        "## Evaluation"
      ],
      "metadata": {
        "id": "j6lgaw8ERZiE"
      }
    },
    {
      "cell_type": "code",
      "source": [
        "# print classification report\n",
        "# Print the logistic regression classification report\n",
        "target_names = ['Non-Default', 'Default']\n",
        "print(\"Loistic Regression\")\n",
        "print(classification_report(y_val, y_log_pred, target_names=target_names))\n",
        "print(\"\")\n",
        "# Print the gradient boosted tree classification report\n",
        "print(\"XGB classifier\")\n",
        "print(classification_report(y_val, y_xgbcv_pred, target_names=target_names))\n"
      ],
      "metadata": {
        "id": "V4JzZTR5RpWl",
        "colab": {
          "base_uri": "https://localhost:8080/"
        },
        "outputId": "5df03733-5c34-4f20-a27e-d9cbde204b79"
      },
      "execution_count": 115,
      "outputs": [
        {
          "output_type": "stream",
          "name": "stdout",
          "text": [
            "Loistic Regression\n",
            "              precision    recall  f1-score   support\n",
            "\n",
            " Non-Default       0.92      0.67      0.77      4609\n",
            "     Default       0.40      0.79      0.53      1283\n",
            "\n",
            "    accuracy                           0.69      5892\n",
            "   macro avg       0.66      0.73      0.65      5892\n",
            "weighted avg       0.81      0.69      0.72      5892\n",
            "\n",
            "\n",
            "XGB classifier\n",
            "              precision    recall  f1-score   support\n",
            "\n",
            " Non-Default       0.94      0.92      0.93      4609\n",
            "     Default       0.73      0.79      0.76      1283\n",
            "\n",
            "    accuracy                           0.89      5892\n",
            "   macro avg       0.84      0.86      0.85      5892\n",
            "weighted avg       0.90      0.89      0.89      5892\n",
            "\n"
          ]
        }
      ]
    },
    {
      "cell_type": "code",
      "source": [
        "from sklearn.metrics import accuracy_score, roc_auc_score, f1_score\n",
        "\n",
        "# Calculate performance metrics\n",
        "log_reg_accuracy = round(accuracy_score(y_val, y_log_pred), 2)\n",
        "log_reg_auc = round(roc_auc_score(y_val, y_log_pred), 2)\n",
        "log_reg_f1 = round(f1_score(y_val, y_log_pred), 2)\n",
        "\n",
        "xgb_accuracy = round(accuracy_score(y_val, y_xgbcv_pred), 2)\n",
        "xgb_auc = round(roc_auc_score(y_val, y_xgbcv_pred), 2)\n",
        "xgb_f1 = round(f1_score(y_val, y_xgbcv_pred), 2)\n",
        "\n",
        "# Create a DataFrame\n",
        "data = {\n",
        "    'Model': ['Logistic Regression', 'XGB Classifier'],\n",
        "    'Accuracy': [log_reg_accuracy, xgb_accuracy],\n",
        "    'AUC': [log_reg_auc, xgb_auc],\n",
        "    'F1': [log_reg_f1, xgb_f1]\n",
        "}\n",
        "performance_df = pd.DataFrame(data)\n",
        "\n",
        "# Set the Model column as the index\n",
        "performance_df.set_index('Model', inplace=True)\n",
        "\n",
        "print(performance_df)"
      ],
      "metadata": {
        "colab": {
          "base_uri": "https://localhost:8080/"
        },
        "id": "ucpqp254JDXS",
        "outputId": "0f190d9f-b4f5-4d18-d3e1-1ad0ac0dc0e4"
      },
      "execution_count": 116,
      "outputs": [
        {
          "output_type": "stream",
          "name": "stdout",
          "text": [
            "                     Accuracy   AUC    F1\n",
            "Model                                    \n",
            "Logistic Regression      0.69  0.73  0.53\n",
            "XGB Classifier           0.89  0.86  0.76\n"
          ]
        }
      ]
    },
    {
      "cell_type": "code",
      "source": [
        "# ROC chart components\n",
        "fallout_lr, sensitivity_lr, thresholds_lr = roc_curve(y_val, y_log_pred_prob)\n",
        "fallout_gbt, sensitivity_gbt, thresholds_gbt = roc_curve(y_val, y_xgbcv_pred_prob)\n",
        "\n",
        "# ROC Chart with both\n",
        "plt.plot(fallout_lr, sensitivity_lr, color = 'blue', label='%s' % 'Logistic Regression')\n",
        "plt.plot(fallout_gbt, sensitivity_gbt, color = 'green', label='%s' % 'GBT CV')\n",
        "plt.plot([0, 1], [0, 1], linestyle='--', label='%s' % 'Random Prediction')\n",
        "plt.title(\"ROC Chart for LR and XGB on the Probability of Default\")\n",
        "plt.xlabel('Fall-out')\n",
        "plt.ylabel('Sensitivity')\n",
        "plt.legend()\n",
        "plt.show()\n",
        "\n",
        "# Print the logistic regression AUC with formatting\n",
        "print(\"Logistic Regression AUC Score: %0.2f\" % AUC_log)\n",
        "\n",
        "# Print the gradient boosted tree AUC with formatting\n",
        "print(\"XGB Classifier CV AUC Score: %0.2f\" % AUC_xgbcv)"
      ],
      "metadata": {
        "colab": {
          "base_uri": "https://localhost:8080/",
          "height": 507
        },
        "id": "s1rqz6xVMork",
        "outputId": "e9084bcb-2719-40fc-ed03-b8d28b95f622"
      },
      "execution_count": 117,
      "outputs": [
        {
          "output_type": "display_data",
          "data": {
            "text/plain": [
              "<Figure size 640x480 with 1 Axes>"
            ],
            "image/png": "[encoded data removed]"
          },
          "metadata": {}
        },
        {
          "output_type": "stream",
          "name": "stdout",
          "text": [
            "Logistic Regression AUC Score: 0.80\n",
            "XGB Classifier CV AUC Score: 0.93\n"
          ]
        }
      ]
    },
    {
      "cell_type": "code",
      "source": [
        "from sklearn.calibration import calibration_curve\n",
        "\n",
        "# Obtain mean predicted value and fraction of positives for Logistic Regression\n",
        "prob_true_log, prob_pred_log = calibration_curve(y_val, log_model.predict_proba(X_val)[:, 1], n_bins=15)\n",
        "\n",
        "# Obtain mean predicted value and fraction of positives for Gradient Boosted Tree\n",
        "prob_true_xgb, prob_pred_xgb = calibration_curve(y_val, y_xgbcv_pred_prob, n_bins=15)\n",
        "\n",
        "# Add the calibration curve for the gradient boosted tree\n",
        "plt.plot([0, 1], [0, 1], 'k:', label='Perfectly calibrated')\n",
        "plt.plot(prob_pred_log , prob_true_log,\n",
        "         's-', label='%s' % 'Logistic Regression')\n",
        "plt.plot(prob_pred_xgb, prob_true_xgb,\n",
        "         's-', label='%s' % 'Gradient Boosted tree CV')\n",
        "plt.ylabel('Fraction of positives')\n",
        "plt.xlabel('Average Predicted Probability')\n",
        "plt.legend()\n",
        "plt.title('Calibration Curve')\n",
        "plt.show()"
      ],
      "metadata": {
        "colab": {
          "base_uri": "https://localhost:8080/",
          "height": 472
        },
        "id": "lyQgPcbBk1Ip",
        "outputId": "b811e4b7-539f-4e19-b193-f33e1830ba0f"
      },
      "execution_count": 118,
      "outputs": [
        {
          "output_type": "display_data",
          "data": {
            "text/plain": [
              "<Figure size 640x480 with 1 Axes>"
            ],
            "image/png": "[encoded data removed]"
          },
          "metadata": {}
        }
      ]
    },
    {
      "cell_type": "code",
      "source": [
        "# Import necessary libraries\n",
        "import matplotlib.pyplot as plt\n",
        "from sklearn.datasets import load_breast_cancer\n",
        "from sklearn.linear_model import LogisticRegression\n",
        "from sklearn.model_selection import train_test_split\n",
        "from sklearn.metrics import brier_score_loss\n",
        "\n",
        "\n",
        "# Train two logistic regression classifiers\n",
        "clf = LogisticRegression(max_iter=1000, random_state=42)\n",
        "clf_r = LogisticRegression(max_iter=1000, random_state=23)\n",
        "clf.fit(X_train, y_train)\n",
        "clf_r.fit(X_old_train, y_old_train)\n",
        "\n",
        "# Probability estimate for both classifiers\n",
        "prob_pos = clf.predict_proba(X_val)[:, 1]\n",
        "prob_pos_r = clf_r.predict_proba(X_val)[:, 1]\n",
        "\n",
        "# Brier Score for both classifiers\n",
        "b_score = brier_score_loss(y_val, prob_pos)\n",
        "b_score_r = brier_score_loss(y_val, prob_pos_r)\n",
        "print(\"Brier Score for Classifier 1 (trained with balanced data):\", b_score)\n",
        "print(\"Brier Score for Classifier 2 (trained with imbalanced data):\", b_score_r)\n",
        "\n",
        "# True and Predicted Probabilities for both classifiers\n",
        "true_pos, pred_pos = calibration_curve(y_val, prob_pos, n_bins=10)\n",
        "true_pos_r, pred_pos_r = calibration_curve(y_val, prob_pos_r, n_bins=10)\n",
        "\n",
        "# Plot the Probabilities Calibrated curve for both classifiers\n",
        "plt.plot(pred_pos, true_pos, marker='o', linewidth=1, label='Classifier from balanced data')\n",
        "plt.plot(pred_pos_r, true_pos_r, marker='o', linewidth=1, label='Classifier from imbalanced data')\n",
        "\n",
        "# Plot the Perfectly Calibrated by Adding the 45-degree line to the plot\n",
        "plt.plot([0, 1], [0, 1], linestyle='--', label='Perfectly Calibrated')\n",
        "\n",
        "# Set the title and axis labels for the plot\n",
        "plt.title('Probability Calibration Curve')\n",
        "plt.xlabel('Predicted Probability')\n",
        "plt.ylabel('True Probability')\n",
        "\n",
        "# Add a legend to the plot\n",
        "plt.legend(loc='best')\n",
        "\n",
        "# Show the plot\n",
        "plt.show()"
      ],
      "metadata": {
        "colab": {
          "base_uri": "https://localhost:8080/",
          "height": 507
        },
        "id": "024HmezORQPX",
        "outputId": "3a696ec8-cf46-439b-d4d3-d6988e1327a9"
      },
      "execution_count": 119,
      "outputs": [
        {
          "output_type": "stream",
          "name": "stdout",
          "text": [
            "Brier Score for Classifier 1 (trained with balanced data): 0.19328977171392342\n",
            "Brier Score for Classifier 2 (trained with imbalanced data): 0.14338685767315354\n"
          ]
        },
        {
          "output_type": "display_data",
          "data": {
            "text/plain": [
              "<Figure size 640x480 with 1 Axes>"
            ],
            "image/png": "[encoded data removed]"
          },
          "metadata": {}
        }
      ]
    },
    {
      "cell_type": "markdown",
      "source": [
        "## Retrain the model"
      ],
      "metadata": {
        "id": "G3mHwcSxRbpz"
      }
    },
    {
      "cell_type": "code",
      "source": [
        "# Get train+val dataset\n",
        "# Check the val data\n",
        "print(\"Before Undersampling:\", Counter(y_val))\n",
        "\n",
        "# Perform undersampling on train_X and train_y\n",
        "X_val_undersampled, y_val_undersampled = undersampler.fit_resample(X_val, y_val)\n",
        "\n",
        "# Check the class distribution after undersampling\n",
        "print(\"After Undersampling:\", Counter(y_val_undersampled))\n",
        "\n",
        "# Combine X_train X_val\n",
        "X_combined_train = np.vstack((X_train, X_val_undersampled))\n",
        "# Combine y_val under y_train using concatenate\n",
        "y_combined_train = np.concatenate((y_train, y_val_undersampled))"
      ],
      "metadata": {
        "colab": {
          "base_uri": "https://localhost:8080/"
        },
        "id": "xpxUVhj6nLt9",
        "outputId": "131035d7-c3dd-4c25-bcbe-ef1bfaa92ed2"
      },
      "execution_count": 120,
      "outputs": [
        {
          "output_type": "stream",
          "name": "stdout",
          "text": [
            "Before Undersampling: Counter({0: 4609, 1: 1283})\n",
            "After Undersampling: Counter({0: 1283, 1: 1283})\n"
          ]
        }
      ]
    },
    {
      "cell_type": "code",
      "source": [
        "# retrain the model use the XGB hyperparameter\n",
        "final_model = xgb.XGBClassifier(**base_params, **best_params)\n",
        "final_model.fit(X_combined_train, y_combined_train, eval_metric='auc')\n",
        "\n",
        "# Make predictions on test data\n",
        "y_xgbcv_test_pred_prob = final_model.predict_proba(X_test)[:, 1]  # Probability of positive class\n",
        "y_xgbcv_test_pred = final_model.predict(X_test)\n",
        "AUC_xgbcv_test = roc_auc_score(y_test, y_xgbcv_test_pred_prob)\n",
        "print(\"AUC on test Data:\", AUC_xgbcv_test)"
      ],
      "metadata": {
        "colab": {
          "base_uri": "https://localhost:8080/"
        },
        "id": "7dyx9NanaZIk",
        "outputId": "34616f56-54da-4fcd-f124-d3ca02fb2c14"
      },
      "execution_count": 121,
      "outputs": [
        {
          "output_type": "stream",
          "name": "stderr",
          "text": [
            "/usr/local/lib/python3.10/dist-packages/xgboost/sklearn.py:889: UserWarning: `eval_metric` in `fit` method is deprecated for better compatibility with scikit-learn, use `eval_metric` in constructor or`set_params` instead.\n",
            "  warnings.warn(\n"
          ]
        },
        {
          "output_type": "stream",
          "name": "stdout",
          "text": [
            "AUC on test Data: 0.9411116501882111\n"
          ]
        }
      ]
    },
    {
      "cell_type": "markdown",
      "source": [
        "Testing the performance"
      ],
      "metadata": {
        "id": "PnUhuRAgRb4I"
      }
    },
    {
      "cell_type": "code",
      "source": [
        "# Create a DataFrame with y_test\n",
        "test_summary_df = pd.DataFrame(y_test)\n",
        "test_summary_df = test_summary_df.rename(columns={'loan_status': 'true_loan_status'})\n",
        "# Add two more columns from your predictions\n",
        "test_summary_df['prob_default'] = y_xgbcv_test_pred_prob\n",
        "test_summary_df['pred_loan_status'] = y_xgbcv_test_pred\n",
        "test_summary_df['loan_amnt'] = X_test['loan_amnt']\n",
        "\n",
        "print(test_summary_df ['loan_amnt'].describe())"
      ],
      "metadata": {
        "colab": {
          "base_uri": "https://localhost:8080/"
        },
        "id": "p6JKugO8rAxt",
        "outputId": "19e557e2-65a1-4cd3-e046-00ccdd29c333"
      },
      "execution_count": 125,
      "outputs": [
        {
          "output_type": "stream",
          "name": "stdout",
          "text": [
            "count     5893.000000\n",
            "mean      9592.393518\n",
            "std       6250.730027\n",
            "min        500.000000\n",
            "25%       5000.000000\n",
            "50%       8000.000000\n",
            "75%      12000.000000\n",
            "max      35000.000000\n",
            "Name: loan_amnt, dtype: float64\n"
          ]
        }
      ]
    },
    {
      "cell_type": "code",
      "source": [
        "# Get the value counts of 'loan_status'\n",
        "loan_status_counts = test_summary_df['true_loan_status'].value_counts()\n",
        "\n",
        "# Plot the bar plot\n",
        "loan_status_counts.plot(kind='bar')\n",
        "plt.xlabel('Loan Status')\n",
        "plt.ylabel('Count')\n",
        "plt.title('Loan Status Bar Plot')\n",
        "plt.show()"
      ],
      "metadata": {
        "colab": {
          "base_uri": "https://localhost:8080/",
          "height": 467
        },
        "id": "71fWfOCoU_-J",
        "outputId": "02cbe955-606e-43ab-fe82-c98ed40729b4"
      },
      "execution_count": 126,
      "outputs": [
        {
          "output_type": "display_data",
          "data": {
            "text/plain": [
              "<Figure size 640x480 with 1 Axes>"
            ],
            "image/png": "[encoded data removed]"
          },
          "metadata": {}
        }
      ]
    },
    {
      "cell_type": "code",
      "source": [
        "# classification report\n",
        "target_names = ['Non-Default', 'Default']\n",
        "print(classification_report(y_test, y_xgbcv_test_pred, target_names = target_names))"
      ],
      "metadata": {
        "colab": {
          "base_uri": "https://localhost:8080/"
        },
        "id": "aTXA9DvUng4m",
        "outputId": "49c63e3e-75f1-455a-c7d1-8df3d2115009"
      },
      "execution_count": 127,
      "outputs": [
        {
          "output_type": "stream",
          "name": "stdout",
          "text": [
            "              precision    recall  f1-score   support\n",
            "\n",
            " Non-Default       0.94      0.93      0.94      4581\n",
            "     Default       0.77      0.80      0.78      1312\n",
            "\n",
            "    accuracy                           0.90      5893\n",
            "   macro avg       0.85      0.86      0.86      5893\n",
            "weighted avg       0.90      0.90      0.90      5893\n",
            "\n"
          ]
        }
      ]
    },
    {
      "cell_type": "code",
      "source": [
        "# confusion matrix\n",
        "from sklearn.metrics import confusion_matrix, ConfusionMatrixDisplay\n",
        "cm = confusion_matrix(y_test, y_xgbcv_test_pred, labels=clf.classes_)\n",
        "disp = ConfusionMatrixDisplay(confusion_matrix=cm,\n",
        "                              display_labels=clf.classes_)\n",
        "disp.plot()\n",
        "plt.show()"
      ],
      "metadata": {
        "colab": {
          "base_uri": "https://localhost:8080/",
          "height": 449
        },
        "id": "74sf6WIiNS3m",
        "outputId": "5812218e-7aca-4e56-89e4-28015b4f2c9e"
      },
      "execution_count": 128,
      "outputs": [
        {
          "output_type": "display_data",
          "data": {
            "text/plain": [
              "<Figure size 640x480 with 2 Axes>"
            ],
            "image/png": "[encoded data removed]"
          },
          "metadata": {}
        }
      ]
    },
    {
      "cell_type": "code",
      "source": [
        "# ROC chart components\n",
        "fallout_gbt, sensitivity_gbt, thresholds_gbt = roc_curve(y_test, y_xgbcv_test_pred_prob)\n",
        "\n",
        "# ROC Chart with both\n",
        "plt.plot(fallout_gbt, sensitivity_gbt, color = 'green', label='%s' % 'GBT CV')\n",
        "plt.plot([0, 1], [0, 1], linestyle='--', label='%s' % 'Random Prediction')\n",
        "plt.title(\"ROC Chart for XGB on the Probability of Default\")\n",
        "plt.xlabel('Fall-out')\n",
        "plt.ylabel('Sensitivity')\n",
        "plt.legend()\n",
        "plt.show()\n",
        "\n",
        "# Print the gradient boosted tree AUC with formatting\n",
        "print(\"XGB CV AUC Score: %0.2f\" % AUC_xgbcv_test)"
      ],
      "metadata": {
        "colab": {
          "base_uri": "https://localhost:8080/",
          "height": 489
        },
        "id": "q02fQEl2nhBI",
        "outputId": "e18dbacc-76a9-4834-e41f-25abbff61d9c"
      },
      "execution_count": 129,
      "outputs": [
        {
          "output_type": "display_data",
          "data": {
            "text/plain": [
              "<Figure size 640x480 with 1 Axes>"
            ],
            "image/png": "[encoded data removed]"
          },
          "metadata": {}
        },
        {
          "output_type": "stream",
          "name": "stdout",
          "text": [
            "XGB CV AUC Score: 0.94\n"
          ]
        }
      ]
    },
    {
      "cell_type": "code",
      "source": [
        "# Obtain mean predicted value and fraction of positives for Gradient Boosted Tree\n",
        "prob_true_xgb, prob_pred_xgb = calibration_curve(y_test, y_xgbcv_test_pred_prob, n_bins=20)\n",
        "\n",
        "# Add the calibration curve for the gradient boosted tree\n",
        "plt.plot([0, 1], [0, 1], 'k:', label='Perfectly calibrated')\n",
        "\n",
        "plt.plot(prob_pred_xgb, prob_true_xgb,\n",
        "         's-', label='%s' % 'Gradient Boosted tree CV')\n",
        "plt.ylabel('Fraction of positives')\n",
        "plt.xlabel('Average Predicted Probability')\n",
        "plt.legend()\n",
        "plt.title('Calibration Curve')\n",
        "plt.show()"
      ],
      "metadata": {
        "colab": {
          "base_uri": "https://localhost:8080/",
          "height": 472
        },
        "id": "wJfMCUKa8V0R",
        "outputId": "b33d3d8e-a9e9-4f05-fa78-2df8d3d72e13"
      },
      "execution_count": 130,
      "outputs": [
        {
          "output_type": "display_data",
          "data": {
            "text/plain": [
              "<Figure size 640x480 with 1 Axes>"
            ],
            "image/png": "[encoded data removed]"
          },
          "metadata": {}
        }
      ]
    },
    {
      "cell_type": "code",
      "source": [
        "# Print or view the DataFrame\n",
        "print(test_summary_df)"
      ],
      "metadata": {
        "colab": {
          "base_uri": "https://localhost:8080/"
        },
        "id": "9JTs_fJ9iyAr",
        "outputId": "516c895f-661d-4350-96b5-91a2df425f2a"
      },
      "execution_count": 131,
      "outputs": [
        {
          "output_type": "stream",
          "name": "stdout",
          "text": [
            "       true_loan_status  prob_default  pred_loan_status  loan_amnt\n",
            "16239                 0      0.517472                 1       7000\n",
            "8358                  1      0.880096                 1       7500\n",
            "14335                 1      0.997370                 1      14500\n",
            "8104                  0      0.006527                 0      11000\n",
            "366                   1      0.991953                 1       4375\n",
            "...                 ...           ...               ...        ...\n",
            "3555                  0      0.292093                 0       6000\n",
            "29983                 0      0.121824                 0       8400\n",
            "28591                 0      0.418470                 0       5000\n",
            "28763                 0      0.105355                 0      11000\n",
            "23700                 0      0.142016                 0       9200\n",
            "\n",
            "[5893 rows x 4 columns]\n"
          ]
        }
      ]
    },
    {
      "cell_type": "code",
      "source": [
        "plt.hist(test_summary_df['prob_default'])"
      ],
      "metadata": {
        "colab": {
          "base_uri": "https://localhost:8080/",
          "height": 534
        },
        "id": "CTm41npzTosv",
        "outputId": "fefafb63-279d-4a8a-bd23-e8ca7ffdbd25"
      },
      "execution_count": 132,
      "outputs": [
        {
          "output_type": "execute_result",
          "data": {
            "text/plain": [
              "(array([1726., 1196.,  821.,  476.,  306.,  205.,  125.,   64.,   87.,\n",
              "         887.]),\n",
              " array([2.67479772e-04, 1.00202776e-01, 2.00138077e-01, 3.00073355e-01,\n",
              "        4.00008649e-01, 4.99943972e-01, 5.99879265e-01, 6.99814558e-01,\n",
              "        7.99749851e-01, 8.99685144e-01, 9.99620438e-01]),\n",
              " <BarContainer object of 10 artists>)"
            ]
          },
          "metadata": {},
          "execution_count": 132
        },
        {
          "output_type": "display_data",
          "data": {
            "text/plain": [
              "<Figure size 640x480 with 1 Axes>"
            ],
            "image/png": "[encoded data removed]"
          },
          "metadata": {}
        }
      ]
    },
    {
      "cell_type": "code",
      "source": [
        "## Acceptance rate impact\n",
        "\n",
        "# Print the statistics of the loan amount column\n",
        "print(test_summary_df ['loan_amnt'].describe())\n",
        "print(\"\")\n",
        "# Store the average loan amount\n",
        "avg_loan = np.mean(test_summary_df ['loan_amnt'])\n",
        "\n",
        "# Set the formatting for currency, and print the cross tab\n",
        "pd.options.display.float_format = '${:,.2f}'.format\n",
        "print(pd.crosstab(test_summary_df ['true_loan_status'],\n",
        "                 test_summary_df ['pred_loan_status']).apply(lambda x: x * avg_loan, axis = 0))"
      ],
      "metadata": {
        "colab": {
          "base_uri": "https://localhost:8080/"
        },
        "id": "BYaks81tiyKe",
        "outputId": "de727df9-0296-4663-c25a-9fb686b927e0"
      },
      "execution_count": 133,
      "outputs": [
        {
          "output_type": "stream",
          "name": "stdout",
          "text": [
            "count     5893.000000\n",
            "mean      9592.393518\n",
            "std       6250.730027\n",
            "min        500.000000\n",
            "25%       5000.000000\n",
            "50%       8000.000000\n",
            "75%      12000.000000\n",
            "max      35000.000000\n",
            "Name: loan_amnt, dtype: float64\n",
            "\n",
            "pred_loan_status              0              1\n",
            "true_loan_status                              \n",
            "0                $40,873,188.78  $3,069,565.93\n",
            "1                 $2,532,391.89 $10,052,828.41\n"
          ]
        }
      ]
    },
    {
      "cell_type": "code",
      "source": [
        "# Reset the format to non-currency format\n",
        "pd.options.display.float_format = None\n",
        "# Making the strategy table\n",
        "\n",
        "accept_rates = [1.0, 0.95, 0.9, 0.85, 0.8, 0.75, 0.7, 0.65, 0.6, 0.55,\n",
        "                0.5, 0.45, 0.4, 0.35, 0.3, 0.25, 0.2, 0.15, 0.1, 0.05]\n",
        "\n",
        "# Create lists to store thresholds and bad rates\n",
        "thresholds = []\n",
        "bad_rates = []\n",
        "\n",
        "# Populate the arrays for the strategy table with a for loop\n",
        "for rate in accept_rates:\n",
        "\n",
        "    # Calculate the threshold for the acceptance rate\n",
        "    thresh = np.quantile(test_summary_df['prob_default'], \\\n",
        "                         rate).round(3)\n",
        "\n",
        "    # Add the threshold value to the list of thresholds\n",
        "    thresholds.append(np.quantile(test_summary_df['prob_default'],\\\n",
        "                                  rate).round(3))\n",
        "\n",
        "    # Reassign the loan_status value using the threshold\n",
        "    test_summary_df['pred_loan_status'] = test_summary_df['prob_default']\\\n",
        "                                        .apply(lambda x: 1 if x > thresh else 0)\n",
        "\n",
        "    # Create a set of accepted loans using this acceptance rate\n",
        "    accepted_loans = test_summary_df[test_summary_df['pred_loan_status'] == 0]\n",
        "\n",
        "    # Calculate and append the bad rate using the acceptance rate\n",
        "    bad_rates.append(np.sum((accepted_loans['true_loan_status']) /\\\n",
        "                            len(accepted_loans['true_loan_status'])).round(3))\n",
        "\n",
        "# Create a data frame of the strategy table\n",
        "strat_df = pd.DataFrame(zip(accept_rates, thresholds, bad_rates),\n",
        "                        columns = ['Acceptance Rate','Threshold','Bad Rate'])\n",
        "\n",
        "# Print the entire table\n",
        "print(strat_df)"
      ],
      "metadata": {
        "colab": {
          "base_uri": "https://localhost:8080/"
        },
        "id": "jpJJ_OtEn7gP",
        "outputId": "d70faa1c-685e-4975-fd60-108bede592a2"
      },
      "execution_count": 134,
      "outputs": [
        {
          "output_type": "stream",
          "name": "stdout",
          "text": [
            "    Acceptance Rate  Threshold  Bad Rate\n",
            "0              1.00      1.000     0.223\n",
            "1              0.95      0.994     0.183\n",
            "2              0.90      0.981     0.137\n",
            "3              0.85      0.901     0.088\n",
            "4              0.80      0.590     0.065\n",
            "5              0.75      0.459     0.056\n",
            "6              0.70      0.373     0.046\n",
            "7              0.65      0.314     0.039\n",
            "8              0.60      0.270     0.033\n",
            "9              0.55      0.231     0.029\n",
            "10             0.50      0.202     0.026\n",
            "11             0.45      0.174     0.020\n",
            "12             0.40      0.149     0.016\n",
            "13             0.35      0.125     0.011\n",
            "14             0.30      0.104     0.010\n",
            "15             0.25      0.079     0.005\n",
            "16             0.20      0.048     0.002\n",
            "17             0.15      0.020     0.000\n",
            "18             0.10      0.007     0.000\n",
            "19             0.05      0.004     0.000\n"
          ]
        }
      ]
    },
    {
      "cell_type": "code",
      "source": [
        "# Visualize the distributions in the strategy table with a boxplot\n",
        "strat_df.boxplot()\n",
        "plt.show()\n"
      ],
      "metadata": {
        "colab": {
          "base_uri": "https://localhost:8080/",
          "height": 430
        },
        "id": "kzzacwk4pG-Q",
        "outputId": "4e40f645-b19c-4607-930e-d79d6c0a044e"
      },
      "execution_count": 135,
      "outputs": [
        {
          "output_type": "display_data",
          "data": {
            "text/plain": [
              "<Figure size 640x480 with 1 Axes>"
            ],
            "image/png": "[encoded data removed]"
          },
          "metadata": {}
        }
      ]
    },
    {
      "cell_type": "code",
      "source": [
        "# Initialize an empty list to store the number of accepted loans for each threshold\n",
        "num_accepted_loans_list = []\n",
        "\n",
        "# Iterate over each threshold in the 'Threshold' column of strat_df\n",
        "for threshold in strat_df['Threshold']:\n",
        "    # Compute binary predictions using the current threshold\n",
        "    y_pred_non_default = (final_model.predict_proba(X_test)[:, 1] < threshold).astype(int)\n",
        "\n",
        "    # Count the number of accepted loans (where non-default is predicted)\n",
        "    num_accepted_loans = np.sum(y_pred_non_default)\n",
        "\n",
        "    # Append the count to the list\n",
        "    num_accepted_loans_list.append(num_accepted_loans)\n",
        "\n",
        "# Assign the list of counts to the 'Num Accepted Loans' column in strat_df\n",
        "strat_df['Num Accepted Loans'] = num_accepted_loans_list\n",
        "\n",
        "strat_df['Avg Loan Amnt'] = avg_loan\n",
        "\n",
        "strat_df['Estimated Value'] = strat_df['Num Accepted Loans'] * strat_df['Avg Loan Amnt'] * (1-strat_df['Bad Rate']-strat_df['Bad Rate'])"
      ],
      "metadata": {
        "id": "R38ongAvy0rk"
      },
      "execution_count": 136,
      "outputs": []
    },
    {
      "cell_type": "code",
      "source": [
        "print(strat_df)"
      ],
      "metadata": {
        "colab": {
          "base_uri": "https://localhost:8080/"
        },
        "id": "TJCMwjPFvSGa",
        "outputId": "a1c8a0bc-ff63-4143-8f80-ed31ee0ede01"
      },
      "execution_count": 137,
      "outputs": [
        {
          "output_type": "stream",
          "name": "stdout",
          "text": [
            "    Acceptance Rate  Threshold  Bad Rate  Num Accepted Loans  Avg Loan Amnt  \\\n",
            "0              1.00      1.000     0.223                5893    9592.393518   \n",
            "1              0.95      0.994     0.183                5607    9592.393518   \n",
            "2              0.90      0.981     0.137                5307    9592.393518   \n",
            "3              0.85      0.901     0.088                5009    9592.393518   \n",
            "4              0.80      0.590     0.065                4714    9592.393518   \n",
            "5              0.75      0.459     0.056                4415    9592.393518   \n",
            "6              0.70      0.373     0.046                4125    9592.393518   \n",
            "7              0.65      0.314     0.039                3830    9592.393518   \n",
            "8              0.60      0.270     0.033                3537    9592.393518   \n",
            "9              0.55      0.231     0.029                3239    9592.393518   \n",
            "10             0.50      0.202     0.026                2941    9592.393518   \n",
            "11             0.45      0.174     0.020                2649    9592.393518   \n",
            "12             0.40      0.149     0.016                2359    9592.393518   \n",
            "13             0.35      0.125     0.011                2060    9592.393518   \n",
            "14             0.30      0.104     0.010                1771    9592.393518   \n",
            "15             0.25      0.079     0.005                1475    9592.393518   \n",
            "16             0.20      0.048     0.002                1179    9592.393518   \n",
            "17             0.15      0.020     0.000                 883    9592.393518   \n",
            "18             0.10      0.007     0.000                 611    9592.393518   \n",
            "19             0.05      0.004     0.000                 340    9592.393518   \n",
            "\n",
            "    Estimated Value  \n",
            "0      3.131650e+07  \n",
            "1      3.409940e+07  \n",
            "2      3.695836e+07  \n",
            "3      3.959180e+07  \n",
            "4      3.934013e+07  \n",
            "5      3.760717e+07  \n",
            "6      3.592831e+07  \n",
            "7      3.387324e+07  \n",
            "8      3.168903e+07  \n",
            "9      2.926772e+07  \n",
            "10     2.674425e+07  \n",
            "11     2.439384e+07  \n",
            "12     2.190435e+07  \n",
            "13     1.932560e+07  \n",
            "14     1.664837e+07  \n",
            "15     1.400729e+07  \n",
            "16     1.126419e+07  \n",
            "17     8.470083e+06  \n",
            "18     5.860952e+06  \n",
            "19     3.261414e+06  \n"
          ]
        }
      ]
    },
    {
      "cell_type": "code",
      "source": [
        "# Plot the strategy curve\n",
        "plt.plot(strat_df['Acceptance Rate'],\n",
        "         strat_df['Bad Rate'])\n",
        "plt.xlabel('Acceptance Rate')\n",
        "plt.ylabel('Bad Rate')\n",
        "plt.title('Acceptance and Bad Rates')\n",
        "plt.grid(True)  # Add grid lines\n",
        "plt.show()"
      ],
      "metadata": {
        "colab": {
          "base_uri": "https://localhost:8080/",
          "height": 472
        },
        "id": "k9Juabkkpa10",
        "outputId": "4ad969b2-55e0-4be0-80db-98acbcaa1997"
      },
      "execution_count": 138,
      "outputs": [
        {
          "output_type": "display_data",
          "data": {
            "text/plain": [
              "<Figure size 640x480 with 1 Axes>"
            ],
            "image/png": "[encoded data removed]"
          },
          "metadata": {}
        }
      ]
    },
    {
      "cell_type": "code",
      "source": [
        "# Print the row with the max estimated value\n",
        "print(strat_df.loc[strat_df['Estimated Value'] == np.max(strat_df['Estimated Value'])])"
      ],
      "metadata": {
        "colab": {
          "base_uri": "https://localhost:8080/"
        },
        "id": "0MN20Uu0s838",
        "outputId": "81799207-e542-4704-ebd1-4b2d77c4e53a"
      },
      "execution_count": 139,
      "outputs": [
        {
          "output_type": "stream",
          "name": "stdout",
          "text": [
            "   Acceptance Rate  Threshold  Bad Rate  Num Accepted Loans  Avg Loan Amnt  \\\n",
            "3             0.85      0.901     0.088                5009    9592.393518   \n",
            "\n",
            "   Estimated Value  \n",
            "3     3.959180e+07  \n"
          ]
        }
      ]
    },
    {
      "cell_type": "code",
      "source": [
        "## Total expected loss\n",
        "# Print the first five rows of the data frame\n",
        "print(test_summary_df.head())\n",
        "\n",
        "# Calculate the bank's expected loss and assign it to a new column\n",
        "test_summary_df['expected_loss'] = test_summary_df['prob_default'] * 1 * test_summary_df['loan_amnt']\n",
        "\n",
        "# Calculate the total expected loss to two decimal places\n",
        "tot_exp_loss = round(np.sum(test_summary_df['expected_loss']),2)\n",
        "\n",
        "# Print the total expected loss\n",
        "print('Total expected loss of default: ', '${:,.2f}'.format(tot_exp_loss))\n",
        "print('Total loss of default: ', '${:,.2f}'.format(np.sum(test_summary_df['true_loan_status'] * test_summary_df['loan_amnt'])))"
      ],
      "metadata": {
        "colab": {
          "base_uri": "https://localhost:8080/"
        },
        "id": "NfVW1Yaas9Qs",
        "outputId": "521a1363-4d5f-4bdc-cc12-1939a9e5206c"
      },
      "execution_count": 140,
      "outputs": [
        {
          "output_type": "stream",
          "name": "stdout",
          "text": [
            "       true_loan_status  prob_default  pred_loan_status  loan_amnt\n",
            "16239                 0      0.517472                 1       7000\n",
            "8358                  1      0.880096                 1       7500\n",
            "14335                 1      0.997370                 1      14500\n",
            "8104                  0      0.006527                 1      11000\n",
            "366                   1      0.991953                 1       4375\n",
            "Total expected loss of default:  $19,757,146.02\n",
            "Total loss of default:  $14,101,050.00\n"
          ]
        }
      ]
    },
    {
      "cell_type": "markdown",
      "source": [
        "## Recalibration process\n",
        "https://towardsdatascience.com/a-comprehensive-guide-on-model-calibration-part-1-of-4-73466eb5e09a"
      ],
      "metadata": {
        "id": "8LzUgDht9CXb"
      }
    },
    {
      "cell_type": "code",
      "source": [
        "! pip install ml_insights"
      ],
      "metadata": {
        "colab": {
          "base_uri": "https://localhost:8080/"
        },
        "id": "d0d6Hj6y_HfQ",
        "outputId": "29128a73-6081-4dd7-8733-a46bb7c9d9d8"
      },
      "execution_count": 141,
      "outputs": [
        {
          "output_type": "stream",
          "name": "stdout",
          "text": [
            "Requirement already satisfied: ml_insights in /usr/local/lib/python3.10/dist-packages (1.0.3)\n",
            "Requirement already satisfied: pandas>=0.23 in /usr/local/lib/python3.10/dist-packages (from ml_insights) (2.0.3)\n",
            "Requirement already satisfied: numpy>=1.16.0 in /usr/local/lib/python3.10/dist-packages (from ml_insights) (1.25.2)\n",
            "Requirement already satisfied: matplotlib>=2.0.0 in /usr/local/lib/python3.10/dist-packages (from ml_insights) (3.7.1)\n",
            "Requirement already satisfied: scikit-learn>=0.24.2 in /usr/local/lib/python3.10/dist-packages (from ml_insights) (1.2.2)\n",
            "Requirement already satisfied: scipy>=1.6.0 in /usr/local/lib/python3.10/dist-packages (from ml_insights) (1.11.4)\n",
            "Requirement already satisfied: splinecalib>=0.0.6 in /usr/local/lib/python3.10/dist-packages (from ml_insights) (0.0.7)\n",
            "Requirement already satisfied: contourpy>=1.0.1 in /usr/local/lib/python3.10/dist-packages (from matplotlib>=2.0.0->ml_insights) (1.2.1)\n",
            "Requirement already satisfied: cycler>=0.10 in /usr/local/lib/python3.10/dist-packages (from matplotlib>=2.0.0->ml_insights) (0.12.1)\n",
            "Requirement already satisfied: fonttools>=4.22.0 in /usr/local/lib/python3.10/dist-packages (from matplotlib>=2.0.0->ml_insights) (4.51.0)\n",
            "Requirement already satisfied: kiwisolver>=1.0.1 in /usr/local/lib/python3.10/dist-packages (from matplotlib>=2.0.0->ml_insights) (1.4.5)\n",
            "Requirement already satisfied: packaging>=20.0 in /usr/local/lib/python3.10/dist-packages (from matplotlib>=2.0.0->ml_insights) (24.0)\n",
            "Requirement already satisfied: pillow>=6.2.0 in /usr/local/lib/python3.10/dist-packages (from matplotlib>=2.0.0->ml_insights) (9.4.0)\n",
            "Requirement already satisfied: pyparsing>=2.3.1 in /usr/local/lib/python3.10/dist-packages (from matplotlib>=2.0.0->ml_insights) (3.1.2)\n",
            "Requirement already satisfied: python-dateutil>=2.7 in /usr/local/lib/python3.10/dist-packages (from matplotlib>=2.0.0->ml_insights) (2.8.2)\n",
            "Requirement already satisfied: pytz>=2020.1 in /usr/local/lib/python3.10/dist-packages (from pandas>=0.23->ml_insights) (2023.4)\n",
            "Requirement already satisfied: tzdata>=2022.1 in /usr/local/lib/python3.10/dist-packages (from pandas>=0.23->ml_insights) (2024.1)\n",
            "Requirement already satisfied: joblib>=1.1.1 in /usr/local/lib/python3.10/dist-packages (from scikit-learn>=0.24.2->ml_insights) (1.4.0)\n",
            "Requirement already satisfied: threadpoolctl>=2.0.0 in /usr/local/lib/python3.10/dist-packages (from scikit-learn>=0.24.2->ml_insights) (3.4.0)\n",
            "Requirement already satisfied: six>=1.5 in /usr/local/lib/python3.10/dist-packages (from python-dateutil>=2.7->matplotlib>=2.0.0->ml_insights) (1.16.0)\n"
          ]
        }
      ]
    },
    {
      "cell_type": "code",
      "source": [
        "from sklearn.metrics import log_loss\n",
        "from sklearn.metrics import f1_score\n",
        "import ml_insights as mli\n",
        "\n",
        "#preds_uncalibrated_test = final_model.predict_proba(X_test)[:, 1]\n",
        "#print(f\"XGB logloss on the test set: {log_loss(y_test, preds_uncalibrated_test):.5f}\")\n",
        "#print(f\"XGB ROC-AUC on the test set: {roc_auc_score(y_test, preds_uncalibrated_test):.5f}\")\n",
        "#print(f\"XGB F1 on the test set: {f1_score(y_test, final_model.predict(X_test)):.5f}\")\n",
        "#print()\n",
        "#plt.figure(figsize=(15,5))\n",
        "#rd = mli.plot_reliability_diagram(y_test, preds_uncalibrated_test,show_histogram=True)"
      ],
      "metadata": {
        "id": "_R3xhl_x9HMD"
      },
      "execution_count": 142,
      "outputs": []
    },
    {
      "cell_type": "code",
      "source": [],
      "metadata": {
        "id": "OfXLtpX79Hdz"
      },
      "execution_count": 142,
      "outputs": []
    }
  ]
}